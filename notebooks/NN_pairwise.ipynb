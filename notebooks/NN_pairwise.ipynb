{
 "cells": [
  {
   "cell_type": "code",
   "execution_count": 1,
   "id": "91ae32ad-ffe8-44ee-a0d2-9a2d1602bd86",
   "metadata": {},
   "outputs": [
    {
     "name": "stderr",
     "output_type": "stream",
     "text": [
      "\u001b[32m\u001b[1m  Activating\u001b[22m\u001b[39m new environment at `/mnt/D/git_repos/PeriDyn/notebooks/Project.toml`\n"
     ]
    }
   ],
   "source": [
    "using Pkg\n",
    "Pkg.activate(\".\")\n",
    "using Revise\n"
   ]
  },
  {
   "cell_type": "code",
   "execution_count": 2,
   "id": "095cb379-c846-4e0c-af10-7bd6aa8c52d1",
   "metadata": {},
   "outputs": [
    {
     "name": "stderr",
     "output_type": "stream",
     "text": [
      "┌ Info: Precompiling PeriDyn [c3db0ce0-6d7e-41b5-be11-bcb6aafada44]\n",
      "└ @ Base loading.jl:1342\n"
     ]
    }
   ],
   "source": [
    "using PeriDyn\n",
    "using PDMesh\n",
    "using ForwardDiff\n",
    "using Flux\n",
    "# using GR\n",
    "using Statistics\n",
    "using Random"
   ]
  },
  {
   "cell_type": "code",
   "execution_count": 33,
   "id": "e04f9b52-bf30-4e75-8706-1ebbbc5fb31a",
   "metadata": {},
   "outputs": [
    {
     "name": "stdout",
     "output_type": "stream",
     "text": [
      "Average family members: 69.18\n"
     ]
    },
    {
     "data": {
      "text/plain": [
       "BondBasedMaterial(\"PM\", 1:1, GeneralMaterial\n",
       "type: [1]\n",
       "horizon: 3.0\n",
       "particle size: [1.0]\n",
       ", BondBasedSpecific\n",
       "bond_stiffness: [55.555555555555564]\n",
       "critical_stretch: [1.0]\n",
       "density: [1.0]\n",
       ")"
      ]
     },
     "execution_count": 33,
     "metadata": {},
     "output_type": "execute_result"
    }
   ],
   "source": [
    "resolution = 1.0\n",
    "horizon = 3*resolution\n",
    "\n",
    "x1, v1, y1, vol1, type1 = unpack(create(Cuboid([-3 13; 0 10; 0 10]), resolution=resolution))\n",
    "\n",
    "\n",
    "mask1 = (y1[1, :] .> 10.0)\n",
    "\n",
    "mask = (y1[1, :] .> 0.0) .& (y1[1, :] .< 10.0)\n",
    "\n",
    "y1[1, mask] *= 1.1\n",
    "\n",
    "mat_gen1 = GeneralMaterial(y1, v1, x1, vol1, type1, horizon; max_neigh=200)\n",
    "\n",
    "\n",
    "Es = 100\n",
    "nu = 0.2\n",
    "K = Es/3/(1-2nu)\n",
    "G = Es/2/(1+nu)\n",
    "den = 1.0\n",
    "cstretch = 1.0\n",
    "\n",
    "\n",
    "mat_spec1 = OrdinaryStateBasedSpecific([K], [G], [cstretch], [den])\n",
    "mat_spec2 = BondBasedSpecific([K], [cstretch], [den])\n",
    "\n",
    "block1 = PeridynamicsMaterial(mat_gen1, mat_spec1)\n",
    "block2 = PeridynamicsMaterial(mat_gen1, mat_spec2)\n",
    "\n",
    "\n",
    "#"
   ]
  },
  {
   "cell_type": "code",
   "execution_count": 36,
   "id": "ab308d01-92c1-4e27-8ba7-0eb812124830",
   "metadata": {},
   "outputs": [
    {
     "data": {
      "text/plain": [
       "3881.4042136857497"
      ]
     },
     "execution_count": 36,
     "metadata": {},
     "output_type": "execute_result"
    }
   ],
   "source": [
    "FF = force_density_T(1.1*y1, block1)\n",
    "\n",
    "sum(FF[1, mask1])\n",
    "\n"
   ]
  },
  {
   "cell_type": "code",
   "execution_count": 37,
   "id": "37b10c25-9473-41bd-8aa9-6df055857fe0",
   "metadata": {},
   "outputs": [
    {
     "data": {
      "text/plain": [
       "24075.806238436075"
      ]
     },
     "execution_count": 37,
     "metadata": {},
     "output_type": "execute_result"
    }
   ],
   "source": [
    "FF = force_density_T(1.1*y1, block2)\n",
    "\n",
    "sum(FF[1, mask1])\n",
    "\n"
   ]
  },
  {
   "cell_type": "code",
   "execution_count": 5,
   "id": "7ec7f20b-fc7d-4286-bb29-7b2e1a8841f1",
   "metadata": {},
   "outputs": [
    {
     "data": {
      "text/plain": [
       "PairwiseNNMaterial(\"PM\", 1:1, GeneralMaterial\n",
       "type: [1]\n",
       "horizon: 3.0\n",
       "particle size: [1.0]\n",
       ", PairwiseNNSpecific\n",
       "NNs: PeriDyn.SymMat(Any[Chain(Dense(2, 10, tanh), Dense(10, 1))], 1)\n",
       "critical_stretch: [1.0]\n",
       "density: [10000.0]\n",
       ")"
      ]
     },
     "execution_count": 5,
     "metadata": {},
     "output_type": "execute_result"
    }
   ],
   "source": [
    "mat_spec2 = PairwiseNNSpecific([2, 10, 1], [cstretch], [den]; act=tanh)\n",
    "block2 = PeridynamicsMaterial(deepcopy(mat_gen1), mat_spec2)"
   ]
  },
  {
   "cell_type": "code",
   "execution_count": 6,
   "id": "8390c22a-9aec-4dd5-a99c-574801673549",
   "metadata": {},
   "outputs": [
    {
     "data": {
      "text/plain": [
       "3×8 Matrix{Float64}:\n",
       " -0.207532   0.207532  -0.207532  …   0.207532  -0.207532  0.207532\n",
       " -0.207532  -0.207532   0.207532     -0.207532   0.207532  0.207532\n",
       " -0.207532  -0.207532  -0.207532      0.207532   0.207532  0.207532"
      ]
     },
     "execution_count": 6,
     "metadata": {},
     "output_type": "execute_result"
    }
   ],
   "source": [
    "FF = force_density_T(1.1*y1, block2)"
   ]
  },
  {
   "cell_type": "code",
   "execution_count": 24,
   "id": "2fe77c55-eeaa-4b8b-9a62-5030086f276c",
   "metadata": {},
   "outputs": [],
   "source": [
    "# function ext_bl(y::Array{Float64,2}, mat::PairwiseNNMaterial)\n",
    "#     types = mat.general.type\n",
    "#     x = mat.general.x \n",
    "#     intact = mat.general.intact\n",
    "#     family = mat.general.family\n",
    "#     N = size(family, 2)\n",
    "#     M = size(family, 1)\n",
    "#     ARGS = map((i) -> (i, 1:M), 1:N)    \n",
    "\n",
    "#     function with_if_cal_force_ij(i, k)\n",
    "#         if intact[k,i]\n",
    "#             j = family[k,i]\n",
    "#             X = [x[1,j]-x[1,i],x[2,j]-x[2,i],x[3,j]-x[3,i]]\n",
    "#             Y = [y[1,j]-y[1,i],y[2,j]-y[2,i],y[3,j]-y[3,i]]\n",
    "#             _X = PeriDyn.get_magnitude(X)\n",
    "#             _Y = PeriDyn.get_magnitude(Y)\n",
    "#             ext = _Y - _X\n",
    "#             s = ext/_X\n",
    "#             type1 = types[i]- mat.type.start + 1\n",
    "#             type2 = types[j] - mat.type.start + 1\n",
    "#             if s < mat.specific.critical_stretch[type1, type2]\n",
    "#                 return [ext, _X, ext/_X, block1.specific.bond_stiffness[type1, type2]*ext/_X]\n",
    "#             else\n",
    "#                 return [0.0, 0.0, 0.0, 0.0]\n",
    "#             end            \n",
    "#         else\n",
    "#             return [0.0, 0.0, 0.0, 0.0]\n",
    "#         end\n",
    "#     end\n",
    "    \n",
    "#     inner_map(i, inds) = map((j)-> with_if_cal_force_ij(i,j), inds)\n",
    "#     outer_map(ARGS) = map((x)->inner_map(x[1], x[2]), ARGS)\n",
    "\n",
    "#     return hcat(outer_map(ARGS)...)\n",
    "# end\n",
    "\n",
    "    \n",
    "# X = vcat(vec(ext_bl(1.1*y1, block2)), vec(ext_bl(0.9*y1, block2)))"
   ]
  },
  {
   "cell_type": "code",
   "execution_count": 9,
   "id": "c397d95b-ea29-44d3-9776-127653749030",
   "metadata": {},
   "outputs": [
    {
     "data": {
      "text/plain": [
       "8-element Vector{Int64}:\n",
       " 7\n",
       " 3\n",
       " 2\n",
       " 6\n",
       " 8\n",
       " 5\n",
       " 1\n",
       " 4"
      ]
     },
     "execution_count": 9,
     "metadata": {},
     "output_type": "execute_result"
    }
   ],
   "source": [
    "particles = randperm(size(y1, 2))"
   ]
  },
  {
   "cell_type": "code",
   "execution_count": 10,
   "id": "86920203-ad5a-441a-87c4-e5f4bdd5663f",
   "metadata": {},
   "outputs": [
    {
     "data": {
      "text/plain": [
       "0.0032936439127499964"
      ]
     },
     "execution_count": 10,
     "metadata": {},
     "output_type": "execute_result"
    }
   ],
   "source": [
    "function loss(k, particles)\n",
    "    mean((force_density_T(k*y1, block1; particles=particles) .- \n",
    "            force_density_T(k*y1, block2; particles=particles)).^2)\n",
    "end\n",
    "\n",
    "loss(1.0, particles)"
   ]
  },
  {
   "cell_type": "code",
   "execution_count": 26,
   "id": "4b4ce806-38fe-4afe-b501-5f13ae119f4d",
   "metadata": {},
   "outputs": [],
   "source": [
    "Revise.retry()\n",
    "\n",
    "refresh()"
   ]
  },
  {
   "cell_type": "code",
   "execution_count": 41,
   "id": "8d9c2d63-6e56-4a2f-b258-fcce78afc40b",
   "metadata": {},
   "outputs": [
    {
     "name": "stdout",
     "output_type": "stream",
     "text": [
      "[0.0 0.0 0.0 0.0 0.0 0.0 0.0 0.0; 0.0 0.0 0.0 0.0 0.0 0.0 0.0 0.0; 0.0 0.0 0.0 0.0 0.0 0.0 0.0 0.0]"
     ]
    },
    {
     "data": {
      "text/plain": [
       "Grads(...)"
      ]
     },
     "execution_count": 41,
     "metadata": {},
     "output_type": "execute_result"
    }
   ],
   "source": [
    "print(force_density_T(1.0*y1, block1; particles=particles))\n",
    "\n",
    "gs = gradient(params(block2.specific.NNs[1])) do\n",
    "    sum(force_density_T(1.0*y1, block1; particles=particles))\n",
    "end\n"
   ]
  },
  {
   "cell_type": "code",
   "execution_count": 111,
   "id": "5e04c6b3-02e6-434d-87ec-040435da72a3",
   "metadata": {},
   "outputs": [
    {
     "data": {
      "text/plain": [
       "mul! (generic function with 1 method)"
      ]
     },
     "execution_count": 111,
     "metadata": {},
     "output_type": "execute_result"
    }
   ],
   "source": [
    "using Zygote\n",
    "\n",
    "function add!(a::Zygote.Grads, b::Zygote.Grads)\n",
    "    for p in a.params\n",
    "        a[p] .= a[p] .+ b[p]\n",
    "    end\n",
    "end\n",
    "\n",
    "function div!(a::Zygote.Grads, i::T) where T <: Real\n",
    "    for p in a.params\n",
    "        a[p] ./= i\n",
    "    end\n",
    "    a\n",
    "end\n",
    "\n",
    "function mul!(a::Zygote.Grads, i::T) where T <: Real\n",
    "    for p in a.params\n",
    "        a[p] .*= i\n",
    "    end\n",
    "    a\n",
    "end\n",
    "\n"
   ]
  },
  {
   "cell_type": "code",
   "execution_count": 112,
   "id": "08a5d266-146d-4839-b07d-d5de0b1bfbad",
   "metadata": {},
   "outputs": [
    {
     "data": {
      "text/plain": [
       "Grads(...)"
      ]
     },
     "execution_count": 112,
     "metadata": {},
     "output_type": "execute_result"
    }
   ],
   "source": [
    "theta = Flux.params(block2.specific.NNs[1])\n",
    "grad_fn = (k, p) -> Flux.gradient(() -> loss(k, p), theta)\n",
    "grad_fn(1.1, particles)"
   ]
  },
  {
   "cell_type": "code",
   "execution_count": 113,
   "id": "8645f9c4-7117-40b7-92e8-8fe75a84cd96",
   "metadata": {},
   "outputs": [
    {
     "data": {
      "text/plain": [
       "Grads(...)"
      ]
     },
     "execution_count": 113,
     "metadata": {},
     "output_type": "execute_result"
    }
   ],
   "source": [
    "grad_fn(1.0, particles)"
   ]
  },
  {
   "cell_type": "code",
   "execution_count": 114,
   "id": "b0806a06-1587-4b99-8b42-4d33bd18e455",
   "metadata": {},
   "outputs": [
    {
     "data": {
      "text/plain": [
       "batched (generic function with 1 method)"
      ]
     },
     "execution_count": 114,
     "metadata": {},
     "output_type": "execute_result"
    }
   ],
   "source": [
    "function batched(X; n=10)\n",
    "    N = size(X)[1]\n",
    "    s = fld(N, n)\n",
    "    (X[1+(i-1)*s:i*s] for i in 1:n)\n",
    "end"
   ]
  },
  {
   "cell_type": "code",
   "execution_count": 115,
   "id": "f9575e06-3106-4f41-afe7-a1c25d48c955",
   "metadata": {},
   "outputs": [
    {
     "data": {
      "text/plain": [
       "ADAM(0.01, (0.9, 0.999), 1.0e-8, IdDict{Any, Any}())"
      ]
     },
     "execution_count": 115,
     "metadata": {},
     "output_type": "execute_result"
    }
   ],
   "source": [
    "opt = Flux.ADAM(0.01)"
   ]
  },
  {
   "cell_type": "code",
   "execution_count": null,
   "id": "dbfe20d8-db4e-4dac-ab71-823a019891bd",
   "metadata": {},
   "outputs": [],
   "source": [
    "N = size(y1, 2)\n",
    "\n",
    "for i in 1:1000\n",
    "    if i%10==0\n",
    "        particles = randperm(size(y1, 2))\n",
    "        println(\"Epoch: $i\\t\\tLoss: $(loss(1.1, particles))\")\n",
    "    end\n",
    "    \n",
    "    particles = randperm(size(y1, 2))\n",
    "    gs = grad_fn(0.9, particles)\n",
    "    \n",
    "    for k in 0.9:0.05:1.1\n",
    "        particles = randperm(size(y1, 2))\n",
    "        add!(gs, grad_fn(k, particles))\n",
    "    end\n",
    "\n",
    "    Flux.update!(opt, theta, div!(gs, 5))\n",
    "end"
   ]
  },
  {
   "cell_type": "code",
   "execution_count": 117,
   "id": "ee1c7196-8a53-4150-8778-6ff561058c2d",
   "metadata": {},
   "outputs": [
    {
     "data": {
      "image/svg+xml": [
       "<?xml version=\"1.0\" encoding=\"utf-8\"?>\n",
       "<svg xmlns=\"http://www.w3.org/2000/svg\" xmlns:xlink=\"http://www.w3.org/1999/xlink\" width=\"600\" height=\"450\" viewBox=\"0 0 2400 1800\">\n",
       "<defs>\n",
       "  <clipPath id=\"clip150\">\n",
       "    <rect x=\"180\" y=\"45\" width=\"2101\" height=\"1621\"/>\n",
       "  </clipPath>\n",
       "</defs>\n",
       "<defs>\n",
       "  <clipPath id=\"clip151\">\n",
       "    <rect x=\"0\" y=\"0\" width=\"2400\" height=\"1800\"/>\n",
       "  </clipPath>\n",
       "</defs>\n",
       "<polyline clip-path=\"url(#clip151)\" style=\"stroke:#ededed; stroke-linecap:butt; stroke-linejoin:round; stroke-width:3.6; stroke-opacity:1; fill:none\" points=\"\n",
       "  180,1665 2280,1665 \n",
       "  \"/>\n",
       "<polyline clip-path=\"url(#clip151)\" style=\"stroke:#cccccc; stroke-linecap:butt; stroke-linejoin:round; stroke-width:3.6; stroke-opacity:1; fill:none\" points=\"\n",
       "  180,1614.38 2280,1614.38 \n",
       "  \"/>\n",
       "<polyline clip-path=\"url(#clip151)\" style=\"stroke:#ededed; stroke-linecap:butt; stroke-linejoin:round; stroke-width:3.6; stroke-opacity:1; fill:none\" points=\"\n",
       "  180,1563.75 2280,1563.75 \n",
       "  \"/>\n",
       "<polyline clip-path=\"url(#clip151)\" style=\"stroke:#ededed; stroke-linecap:butt; stroke-linejoin:round; stroke-width:3.6; stroke-opacity:1; fill:none\" points=\"\n",
       "  180,1513.12 2280,1513.12 \n",
       "  \"/>\n",
       "<polyline clip-path=\"url(#clip151)\" style=\"stroke:#ededed; stroke-linecap:butt; stroke-linejoin:round; stroke-width:3.6; stroke-opacity:1; fill:none\" points=\"\n",
       "  180,1462.5 2280,1462.5 \n",
       "  \"/>\n",
       "<polyline clip-path=\"url(#clip151)\" style=\"stroke:#ededed; stroke-linecap:butt; stroke-linejoin:round; stroke-width:3.6; stroke-opacity:1; fill:none\" points=\"\n",
       "  180,1411.88 2280,1411.88 \n",
       "  \"/>\n",
       "<polyline clip-path=\"url(#clip151)\" style=\"stroke:#cccccc; stroke-linecap:butt; stroke-linejoin:round; stroke-width:3.6; stroke-opacity:1; fill:none\" points=\"\n",
       "  180,1361.25 2280,1361.25 \n",
       "  \"/>\n",
       "<polyline clip-path=\"url(#clip151)\" style=\"stroke:#ededed; stroke-linecap:butt; stroke-linejoin:round; stroke-width:3.6; stroke-opacity:1; fill:none\" points=\"\n",
       "  180,1310.62 2280,1310.62 \n",
       "  \"/>\n",
       "<polyline clip-path=\"url(#clip151)\" style=\"stroke:#ededed; stroke-linecap:butt; stroke-linejoin:round; stroke-width:3.6; stroke-opacity:1; fill:none\" points=\"\n",
       "  180,1260 2280,1260 \n",
       "  \"/>\n",
       "<polyline clip-path=\"url(#clip151)\" style=\"stroke:#ededed; stroke-linecap:butt; stroke-linejoin:round; stroke-width:3.6; stroke-opacity:1; fill:none\" points=\"\n",
       "  180,1209.38 2280,1209.38 \n",
       "  \"/>\n",
       "<polyline clip-path=\"url(#clip151)\" style=\"stroke:#ededed; stroke-linecap:butt; stroke-linejoin:round; stroke-width:3.6; stroke-opacity:1; fill:none\" points=\"\n",
       "  180,1158.75 2280,1158.75 \n",
       "  \"/>\n",
       "<polyline clip-path=\"url(#clip151)\" style=\"stroke:#cccccc; stroke-linecap:butt; stroke-linejoin:round; stroke-width:3.6; stroke-opacity:1; fill:none\" points=\"\n",
       "  180,1108.12 2280,1108.12 \n",
       "  \"/>\n",
       "<polyline clip-path=\"url(#clip151)\" style=\"stroke:#ededed; stroke-linecap:butt; stroke-linejoin:round; stroke-width:3.6; stroke-opacity:1; fill:none\" points=\"\n",
       "  180,1057.5 2280,1057.5 \n",
       "  \"/>\n",
       "<polyline clip-path=\"url(#clip151)\" style=\"stroke:#ededed; stroke-linecap:butt; stroke-linejoin:round; stroke-width:3.6; stroke-opacity:1; fill:none\" points=\"\n",
       "  180,1006.88 2280,1006.88 \n",
       "  \"/>\n",
       "<polyline clip-path=\"url(#clip151)\" style=\"stroke:#ededed; stroke-linecap:butt; stroke-linejoin:round; stroke-width:3.6; stroke-opacity:1; fill:none\" points=\"\n",
       "  180,956.25 2280,956.25 \n",
       "  \"/>\n",
       "<polyline clip-path=\"url(#clip151)\" style=\"stroke:#ededed; stroke-linecap:butt; stroke-linejoin:round; stroke-width:3.6; stroke-opacity:1; fill:none\" points=\"\n",
       "  180,905.625 2280,905.625 \n",
       "  \"/>\n",
       "<polyline clip-path=\"url(#clip151)\" style=\"stroke:#cccccc; stroke-linecap:butt; stroke-linejoin:round; stroke-width:3.6; stroke-opacity:1; fill:none\" points=\"\n",
       "  180,855 2280,855 \n",
       "  \"/>\n",
       "<polyline clip-path=\"url(#clip151)\" style=\"stroke:#ededed; stroke-linecap:butt; stroke-linejoin:round; stroke-width:3.6; stroke-opacity:1; fill:none\" points=\"\n",
       "  180,804.375 2280,804.375 \n",
       "  \"/>\n",
       "<polyline clip-path=\"url(#clip151)\" style=\"stroke:#ededed; stroke-linecap:butt; stroke-linejoin:round; stroke-width:3.6; stroke-opacity:1; fill:none\" points=\"\n",
       "  180,753.75 2280,753.75 \n",
       "  \"/>\n",
       "<polyline clip-path=\"url(#clip151)\" style=\"stroke:#ededed; stroke-linecap:butt; stroke-linejoin:round; stroke-width:3.6; stroke-opacity:1; fill:none\" points=\"\n",
       "  180,703.125 2280,703.125 \n",
       "  \"/>\n",
       "<polyline clip-path=\"url(#clip151)\" style=\"stroke:#ededed; stroke-linecap:butt; stroke-linejoin:round; stroke-width:3.6; stroke-opacity:1; fill:none\" points=\"\n",
       "  180,652.5 2280,652.5 \n",
       "  \"/>\n",
       "<polyline clip-path=\"url(#clip151)\" style=\"stroke:#cccccc; stroke-linecap:butt; stroke-linejoin:round; stroke-width:3.6; stroke-opacity:1; fill:none\" points=\"\n",
       "  180,601.875 2280,601.875 \n",
       "  \"/>\n",
       "<polyline clip-path=\"url(#clip151)\" style=\"stroke:#ededed; stroke-linecap:butt; stroke-linejoin:round; stroke-width:3.6; stroke-opacity:1; fill:none\" points=\"\n",
       "  180,551.25 2280,551.25 \n",
       "  \"/>\n",
       "<polyline clip-path=\"url(#clip151)\" style=\"stroke:#ededed; stroke-linecap:butt; stroke-linejoin:round; stroke-width:3.6; stroke-opacity:1; fill:none\" points=\"\n",
       "  180,500.625 2280,500.625 \n",
       "  \"/>\n",
       "<polyline clip-path=\"url(#clip151)\" style=\"stroke:#ededed; stroke-linecap:butt; stroke-linejoin:round; stroke-width:3.6; stroke-opacity:1; fill:none\" points=\"\n",
       "  180,450 2280,450 \n",
       "  \"/>\n",
       "<polyline clip-path=\"url(#clip151)\" style=\"stroke:#ededed; stroke-linecap:butt; stroke-linejoin:round; stroke-width:3.6; stroke-opacity:1; fill:none\" points=\"\n",
       "  180,399.375 2280,399.375 \n",
       "  \"/>\n",
       "<polyline clip-path=\"url(#clip151)\" style=\"stroke:#cccccc; stroke-linecap:butt; stroke-linejoin:round; stroke-width:3.6; stroke-opacity:1; fill:none\" points=\"\n",
       "  180,348.75 2280,348.75 \n",
       "  \"/>\n",
       "<polyline clip-path=\"url(#clip151)\" style=\"stroke:#ededed; stroke-linecap:butt; stroke-linejoin:round; stroke-width:3.6; stroke-opacity:1; fill:none\" points=\"\n",
       "  180,298.125 2280,298.125 \n",
       "  \"/>\n",
       "<polyline clip-path=\"url(#clip151)\" style=\"stroke:#ededed; stroke-linecap:butt; stroke-linejoin:round; stroke-width:3.6; stroke-opacity:1; fill:none\" points=\"\n",
       "  180,247.5 2280,247.5 \n",
       "  \"/>\n",
       "<polyline clip-path=\"url(#clip151)\" style=\"stroke:#ededed; stroke-linecap:butt; stroke-linejoin:round; stroke-width:3.6; stroke-opacity:1; fill:none\" points=\"\n",
       "  180,196.875 2280,196.875 \n",
       "  \"/>\n",
       "<polyline clip-path=\"url(#clip151)\" style=\"stroke:#ededed; stroke-linecap:butt; stroke-linejoin:round; stroke-width:3.6; stroke-opacity:1; fill:none\" points=\"\n",
       "  180,146.25 2280,146.25 \n",
       "  \"/>\n",
       "<polyline clip-path=\"url(#clip151)\" style=\"stroke:#cccccc; stroke-linecap:butt; stroke-linejoin:round; stroke-width:3.6; stroke-opacity:1; fill:none\" points=\"\n",
       "  180,95.625 2280,95.625 \n",
       "  \"/>\n",
       "<polyline clip-path=\"url(#clip151)\" style=\"stroke:#ededed; stroke-linecap:butt; stroke-linejoin:round; stroke-width:3.6; stroke-opacity:1; fill:none\" points=\"\n",
       "  180,45 2280,45 \n",
       "  \"/>\n",
       "<polyline clip-path=\"url(#clip151)\" style=\"stroke:#cccccc; stroke-linecap:butt; stroke-linejoin:round; stroke-width:3.6; stroke-opacity:1; fill:none\" points=\"\n",
       "  180,1665 180,45 \n",
       "  \"/>\n",
       "<polyline clip-path=\"url(#clip151)\" style=\"stroke:#ededed; stroke-linecap:butt; stroke-linejoin:round; stroke-width:3.6; stroke-opacity:1; fill:none\" points=\"\n",
       "  285,1665 285,45 \n",
       "  \"/>\n",
       "<polyline clip-path=\"url(#clip151)\" style=\"stroke:#ededed; stroke-linecap:butt; stroke-linejoin:round; stroke-width:3.6; stroke-opacity:1; fill:none\" points=\"\n",
       "  390,1665 390,45 \n",
       "  \"/>\n",
       "<polyline clip-path=\"url(#clip151)\" style=\"stroke:#ededed; stroke-linecap:butt; stroke-linejoin:round; stroke-width:3.6; stroke-opacity:1; fill:none\" points=\"\n",
       "  495,1665 495,45 \n",
       "  \"/>\n",
       "<polyline clip-path=\"url(#clip151)\" style=\"stroke:#ededed; stroke-linecap:butt; stroke-linejoin:round; stroke-width:3.6; stroke-opacity:1; fill:none\" points=\"\n",
       "  600,1665 600,45 \n",
       "  \"/>\n",
       "<polyline clip-path=\"url(#clip151)\" style=\"stroke:#cccccc; stroke-linecap:butt; stroke-linejoin:round; stroke-width:3.6; stroke-opacity:1; fill:none\" points=\"\n",
       "  705,1665 705,45 \n",
       "  \"/>\n",
       "<polyline clip-path=\"url(#clip151)\" style=\"stroke:#ededed; stroke-linecap:butt; stroke-linejoin:round; stroke-width:3.6; stroke-opacity:1; fill:none\" points=\"\n",
       "  810,1665 810,45 \n",
       "  \"/>\n",
       "<polyline clip-path=\"url(#clip151)\" style=\"stroke:#ededed; stroke-linecap:butt; stroke-linejoin:round; stroke-width:3.6; stroke-opacity:1; fill:none\" points=\"\n",
       "  915,1665 915,45 \n",
       "  \"/>\n",
       "<polyline clip-path=\"url(#clip151)\" style=\"stroke:#ededed; stroke-linecap:butt; stroke-linejoin:round; stroke-width:3.6; stroke-opacity:1; fill:none\" points=\"\n",
       "  1020,1665 1020,45 \n",
       "  \"/>\n",
       "<polyline clip-path=\"url(#clip151)\" style=\"stroke:#ededed; stroke-linecap:butt; stroke-linejoin:round; stroke-width:3.6; stroke-opacity:1; fill:none\" points=\"\n",
       "  1125,1665 1125,45 \n",
       "  \"/>\n",
       "<polyline clip-path=\"url(#clip151)\" style=\"stroke:#cccccc; stroke-linecap:butt; stroke-linejoin:round; stroke-width:3.6; stroke-opacity:1; fill:none\" points=\"\n",
       "  1230,1665 1230,45 \n",
       "  \"/>\n",
       "<polyline clip-path=\"url(#clip151)\" style=\"stroke:#ededed; stroke-linecap:butt; stroke-linejoin:round; stroke-width:3.6; stroke-opacity:1; fill:none\" points=\"\n",
       "  1335,1665 1335,45 \n",
       "  \"/>\n",
       "<polyline clip-path=\"url(#clip151)\" style=\"stroke:#ededed; stroke-linecap:butt; stroke-linejoin:round; stroke-width:3.6; stroke-opacity:1; fill:none\" points=\"\n",
       "  1440,1665 1440,45 \n",
       "  \"/>\n",
       "<polyline clip-path=\"url(#clip151)\" style=\"stroke:#ededed; stroke-linecap:butt; stroke-linejoin:round; stroke-width:3.6; stroke-opacity:1; fill:none\" points=\"\n",
       "  1545,1665 1545,45 \n",
       "  \"/>\n",
       "<polyline clip-path=\"url(#clip151)\" style=\"stroke:#ededed; stroke-linecap:butt; stroke-linejoin:round; stroke-width:3.6; stroke-opacity:1; fill:none\" points=\"\n",
       "  1650,1665 1650,45 \n",
       "  \"/>\n",
       "<polyline clip-path=\"url(#clip151)\" style=\"stroke:#cccccc; stroke-linecap:butt; stroke-linejoin:round; stroke-width:3.6; stroke-opacity:1; fill:none\" points=\"\n",
       "  1755,1665 1755,45 \n",
       "  \"/>\n",
       "<polyline clip-path=\"url(#clip151)\" style=\"stroke:#ededed; stroke-linecap:butt; stroke-linejoin:round; stroke-width:3.6; stroke-opacity:1; fill:none\" points=\"\n",
       "  1860,1665 1860,45 \n",
       "  \"/>\n",
       "<polyline clip-path=\"url(#clip151)\" style=\"stroke:#ededed; stroke-linecap:butt; stroke-linejoin:round; stroke-width:3.6; stroke-opacity:1; fill:none\" points=\"\n",
       "  1965,1665 1965,45 \n",
       "  \"/>\n",
       "<polyline clip-path=\"url(#clip151)\" style=\"stroke:#ededed; stroke-linecap:butt; stroke-linejoin:round; stroke-width:3.6; stroke-opacity:1; fill:none\" points=\"\n",
       "  2070,1665 2070,45 \n",
       "  \"/>\n",
       "<polyline clip-path=\"url(#clip151)\" style=\"stroke:#ededed; stroke-linecap:butt; stroke-linejoin:round; stroke-width:3.6; stroke-opacity:1; fill:none\" points=\"\n",
       "  2175,1665 2175,45 \n",
       "  \"/>\n",
       "<polyline clip-path=\"url(#clip151)\" style=\"stroke:#cccccc; stroke-linecap:butt; stroke-linejoin:round; stroke-width:3.6; stroke-opacity:1; fill:none\" points=\"\n",
       "  2280,1665 2280,45 \n",
       "  \"/>\n",
       "<path clip-path=\"url(#clip151)\" d=\"M89.4701 1614.77 Q89.8796 1615.18 89.8796 1615.76 Q89.8796 1616.34 89.4701 1616.75 Q89.0606 1617.16 88.4805 1617.16 L44.7327 1617.16 Q44.1526 1617.16 43.7431 1616.75 Q43.3336 1616.34 43.3336 1615.76 Q43.3336 1615.18 43.7431 1614.77 Q44.1526 1614.36 44.7327 1614.36 L88.4805 1614.36 Q89.0606 1614.36 89.4701 1614.77 Z\" fill=\"#000000\" fill-rule=\"evenodd\" fill-opacity=\"1\" /><path clip-path=\"url(#clip151)\" d=\"M99.9805 1593.34 L99.9805 1591.16 Q108.375 1591.16 112.709 1586.69 Q113.903 1586.69 114.108 1586.96 Q114.313 1587.23 114.313 1588.5 L114.313 1627.7 Q114.313 1629.79 115.337 1630.43 Q116.36 1631.08 120.831 1631.08 L123.049 1631.08 L123.049 1633.23 Q120.592 1633.03 111.719 1633.03 Q102.847 1633.03 100.424 1633.23 L100.424 1631.08 L102.642 1631.08 Q107.044 1631.08 108.102 1630.47 Q109.16 1629.82 109.16 1627.7 L109.16 1591.5 Q105.509 1593.34 99.9805 1593.34 Z\" fill=\"#000000\" fill-rule=\"evenodd\" fill-opacity=\"1\" /><path clip-path=\"url(#clip151)\" d=\"M132.194 1621.97 Q132.194 1619.89 133.32 1619.1 Q134.446 1618.29 135.641 1618.29 Q137.245 1618.29 138.166 1619.31 Q139.122 1620.3 139.122 1621.7 Q139.122 1623.1 138.166 1624.12 Q137.245 1625.11 135.641 1625.11 Q134.856 1625.11 134.446 1624.97 Q135.368 1628.18 138.166 1630.5 Q140.998 1632.82 144.718 1632.82 Q149.393 1632.82 152.191 1628.28 Q153.863 1625.35 153.863 1618.7 Q153.863 1612.83 152.601 1609.89 Q150.656 1605.42 146.663 1605.42 Q140.998 1605.42 137.654 1610.3 Q137.245 1610.91 136.767 1610.95 Q136.084 1610.95 135.914 1610.57 Q135.777 1610.16 135.777 1609.11 L135.777 1588.43 Q135.777 1586.75 136.46 1586.75 Q136.733 1586.75 137.313 1586.96 Q141.715 1588.9 146.595 1588.94 Q151.611 1588.94 156.116 1586.89 Q156.457 1586.69 156.662 1586.69 Q157.344 1586.69 157.378 1587.47 Q157.378 1587.74 156.798 1588.56 Q156.252 1589.35 155.058 1590.41 Q153.863 1591.43 152.328 1592.42 Q150.792 1593.41 148.54 1594.09 Q146.322 1594.74 143.865 1594.74 Q140.93 1594.74 137.927 1593.82 L137.927 1607.43 Q141.544 1603.89 146.8 1603.89 Q152.396 1603.89 156.252 1608.39 Q160.108 1612.89 160.108 1619.17 Q160.108 1625.76 155.535 1630.26 Q150.997 1634.77 144.854 1634.77 Q139.258 1634.77 135.709 1630.78 Q132.194 1626.78 132.194 1621.97 Z\" fill=\"#000000\" fill-rule=\"evenodd\" fill-opacity=\"1\" /><path clip-path=\"url(#clip151)\" d=\"M88.7194 1361.65 Q89.1289 1362.06 89.1289 1362.64 Q89.1289 1363.22 88.7194 1363.63 Q88.3099 1364.03 87.7298 1364.03 L43.982 1364.03 Q43.4018 1364.03 42.9923 1363.63 Q42.5828 1363.22 42.5828 1362.64 Q42.5828 1362.06 42.9923 1361.65 Q43.4018 1361.24 43.982 1361.24 L87.7298 1361.24 Q88.3099 1361.24 88.7194 1361.65 Z\" fill=\"#000000\" fill-rule=\"evenodd\" fill-opacity=\"1\" /><path clip-path=\"url(#clip151)\" d=\"M99.2298 1340.22 L99.2298 1338.03 Q107.624 1338.03 111.958 1333.56 Q113.153 1333.56 113.357 1333.83 Q113.562 1334.11 113.562 1335.37 L113.562 1374.58 Q113.562 1376.66 114.586 1377.31 Q115.61 1377.96 120.08 1377.96 L122.298 1377.96 L122.298 1380.11 Q119.841 1379.9 110.969 1379.9 Q102.096 1379.9 99.6734 1380.11 L99.6734 1377.96 L101.891 1377.96 Q106.294 1377.96 107.351 1377.34 Q108.409 1376.69 108.409 1374.58 L108.409 1338.37 Q104.758 1340.22 99.2298 1340.22 Z\" fill=\"#000000\" fill-rule=\"evenodd\" fill-opacity=\"1\" /><path clip-path=\"url(#clip151)\" d=\"M130.693 1357.76 Q130.693 1347.48 133.286 1341.89 Q136.903 1333.56 145.435 1333.56 Q147.243 1333.56 149.12 1334.07 Q151.031 1334.55 153.42 1336.43 Q155.843 1338.3 157.31 1341.38 Q160.108 1347.31 160.108 1357.76 Q160.108 1367.96 157.515 1373.52 Q153.727 1381.64 145.366 1381.64 Q142.227 1381.64 139.019 1380.04 Q135.846 1378.44 133.832 1374.58 Q130.693 1368.81 130.693 1357.76 M136.494 1356.9 Q136.494 1367.45 137.245 1371.64 Q138.098 1376.18 140.418 1378.16 Q142.773 1380.11 145.366 1380.11 Q148.165 1380.11 150.485 1378.03 Q152.84 1375.91 153.556 1371.37 Q154.341 1366.9 154.307 1356.9 Q154.307 1347.18 153.624 1343.29 Q152.703 1338.75 150.246 1336.94 Q147.823 1335.1 145.366 1335.1 Q144.445 1335.1 143.455 1335.37 Q142.5 1335.64 141.101 1336.43 Q139.702 1337.21 138.61 1339.16 Q137.552 1341.1 137.04 1344.04 Q136.494 1347.83 136.494 1356.9 Z\" fill=\"#000000\" fill-rule=\"evenodd\" fill-opacity=\"1\" /><path clip-path=\"url(#clip151)\" d=\"M124.414 1108.52 Q124.823 1108.93 124.823 1109.51 Q124.823 1110.09 124.414 1110.5 Q124.004 1110.91 123.424 1110.91 L79.6763 1110.91 Q79.0962 1110.91 78.6867 1110.5 Q78.2772 1110.09 78.2772 1109.51 Q78.2772 1108.93 78.6867 1108.52 Q79.0962 1108.11 79.6763 1108.11 L123.424 1108.11 Q124.004 1108.11 124.414 1108.52 Z\" fill=\"#000000\" fill-rule=\"evenodd\" fill-opacity=\"1\" /><path clip-path=\"url(#clip151)\" d=\"M132.194 1115.72 Q132.194 1113.64 133.32 1112.85 Q134.446 1112.04 135.641 1112.04 Q137.245 1112.04 138.166 1113.06 Q139.122 1114.05 139.122 1115.45 Q139.122 1116.85 138.166 1117.87 Q137.245 1118.86 135.641 1118.86 Q134.856 1118.86 134.446 1118.72 Q135.368 1121.93 138.166 1124.25 Q140.998 1126.57 144.718 1126.57 Q149.393 1126.57 152.191 1122.03 Q153.863 1119.1 153.863 1112.45 Q153.863 1106.58 152.601 1103.64 Q150.656 1099.17 146.663 1099.17 Q140.998 1099.17 137.654 1104.05 Q137.245 1104.66 136.767 1104.7 Q136.084 1104.7 135.914 1104.32 Q135.777 1103.91 135.777 1102.86 L135.777 1082.18 Q135.777 1080.5 136.46 1080.5 Q136.733 1080.5 137.313 1080.71 Q141.715 1082.65 146.595 1082.69 Q151.611 1082.69 156.116 1080.64 Q156.457 1080.44 156.662 1080.44 Q157.344 1080.44 157.378 1081.22 Q157.378 1081.49 156.798 1082.31 Q156.252 1083.1 155.058 1084.16 Q153.863 1085.18 152.328 1086.17 Q150.792 1087.16 148.54 1087.84 Q146.322 1088.49 143.865 1088.49 Q140.93 1088.49 137.927 1087.57 L137.927 1101.18 Q141.544 1097.64 146.8 1097.64 Q152.396 1097.64 156.252 1102.14 Q160.108 1106.64 160.108 1112.92 Q160.108 1119.51 155.535 1124.01 Q150.997 1128.52 144.854 1128.52 Q139.258 1128.52 135.709 1124.53 Q132.194 1120.53 132.194 1115.72 Z\" fill=\"#000000\" fill-rule=\"evenodd\" fill-opacity=\"1\" /><path clip-path=\"url(#clip151)\" d=\"M130.693 851.506 Q130.693 841.234 133.286 835.638 Q136.903 827.311 145.435 827.311 Q147.243 827.311 149.12 827.823 Q151.031 828.301 153.42 830.178 Q155.843 832.055 157.31 835.126 Q160.108 841.064 160.108 851.506 Q160.108 861.709 157.515 867.271 Q153.727 875.393 145.366 875.393 Q142.227 875.393 139.019 873.789 Q135.846 872.185 133.832 868.329 Q130.693 862.562 130.693 851.506 M136.494 850.653 Q136.494 861.197 137.245 865.395 Q138.098 869.933 140.418 871.912 Q142.773 873.857 145.366 873.857 Q148.165 873.857 150.485 871.776 Q152.84 869.66 153.556 865.122 Q154.341 860.651 154.307 850.653 Q154.307 840.927 153.624 837.037 Q152.703 832.498 150.246 830.69 Q147.823 828.847 145.366 828.847 Q144.445 828.847 143.455 829.12 Q142.5 829.393 141.101 830.178 Q139.702 830.963 138.61 832.908 Q137.552 834.853 137.04 837.788 Q136.494 841.576 136.494 850.653 Z\" fill=\"#000000\" fill-rule=\"evenodd\" fill-opacity=\"1\" /><path clip-path=\"url(#clip151)\" d=\"M132.194 609.471 Q132.194 607.39 133.32 606.605 Q134.446 605.786 135.641 605.786 Q137.245 605.786 138.166 606.81 Q139.122 607.799 139.122 609.198 Q139.122 610.597 138.166 611.621 Q137.245 612.611 135.641 612.611 Q134.856 612.611 134.446 612.474 Q135.368 615.682 138.166 618.002 Q140.998 620.323 144.718 620.323 Q149.393 620.323 152.191 615.784 Q153.863 612.85 153.863 606.195 Q153.863 600.326 152.601 597.391 Q150.656 592.921 146.663 592.921 Q140.998 592.921 137.654 597.801 Q137.245 598.415 136.767 598.449 Q136.084 598.449 135.914 598.074 Q135.777 597.664 135.777 596.606 L135.777 575.927 Q135.777 574.255 136.46 574.255 Q136.733 574.255 137.313 574.459 Q141.715 576.405 146.595 576.439 Q151.611 576.439 156.116 574.391 Q156.457 574.186 156.662 574.186 Q157.344 574.186 157.378 574.971 Q157.378 575.244 156.798 576.063 Q156.252 576.848 155.058 577.906 Q153.863 578.93 152.328 579.919 Q150.792 580.909 148.54 581.591 Q146.322 582.24 143.865 582.24 Q140.93 582.24 137.927 581.318 L137.927 594.934 Q141.544 591.385 146.8 591.385 Q152.396 591.385 156.252 595.89 Q160.108 600.394 160.108 606.673 Q160.108 613.259 155.535 617.764 Q150.997 622.268 144.854 622.268 Q139.258 622.268 135.709 618.275 Q132.194 614.283 132.194 609.471 Z\" fill=\"#000000\" fill-rule=\"evenodd\" fill-opacity=\"1\" /><path clip-path=\"url(#clip151)\" d=\"M99.2298 327.716 L99.2298 325.532 Q107.624 325.532 111.958 321.061 Q113.153 321.061 113.357 321.334 Q113.562 321.607 113.562 322.87 L113.562 362.079 Q113.562 364.161 114.586 364.809 Q115.61 365.458 120.08 365.458 L122.298 365.458 L122.298 367.607 Q119.841 367.403 110.969 367.403 Q102.096 367.403 99.6734 367.607 L99.6734 365.458 L101.891 365.458 Q106.294 365.458 107.351 364.843 Q108.409 364.195 108.409 362.079 L108.409 325.873 Q104.758 327.716 99.2298 327.716 Z\" fill=\"#000000\" fill-rule=\"evenodd\" fill-opacity=\"1\" /><path clip-path=\"url(#clip151)\" d=\"M130.693 345.256 Q130.693 334.984 133.286 329.388 Q136.903 321.061 145.435 321.061 Q147.243 321.061 149.12 321.573 Q151.031 322.051 153.42 323.928 Q155.843 325.805 157.31 328.876 Q160.108 334.814 160.108 345.256 Q160.108 355.459 157.515 361.021 Q153.727 369.143 145.366 369.143 Q142.227 369.143 139.019 367.539 Q135.846 365.935 133.832 362.079 Q130.693 356.312 130.693 345.256 M136.494 344.403 Q136.494 354.947 137.245 359.145 Q138.098 363.683 140.418 365.662 Q142.773 367.607 145.366 367.607 Q148.165 367.607 150.485 365.526 Q152.84 363.41 153.556 358.872 Q154.341 354.401 154.307 344.403 Q154.307 334.677 153.624 330.787 Q152.703 326.248 150.246 324.44 Q147.823 322.597 145.366 322.597 Q144.445 322.597 143.455 322.87 Q142.5 323.143 141.101 323.928 Q139.702 324.713 138.61 326.658 Q137.552 328.603 137.04 331.538 Q136.494 335.326 136.494 344.403 Z\" fill=\"#000000\" fill-rule=\"evenodd\" fill-opacity=\"1\" /><path clip-path=\"url(#clip151)\" d=\"M99.9805 74.5907 L99.9805 72.4068 Q108.375 72.4068 112.709 67.9364 Q113.903 67.9364 114.108 68.2094 Q114.313 68.4824 114.313 69.745 L114.313 108.954 Q114.313 111.036 115.337 111.684 Q116.36 112.333 120.831 112.333 L123.049 112.333 L123.049 114.482 Q120.592 114.278 111.719 114.278 Q102.847 114.278 100.424 114.482 L100.424 112.333 L102.642 112.333 Q107.044 112.333 108.102 111.718 Q109.16 111.07 109.16 108.954 L109.16 72.748 Q105.509 74.5907 99.9805 74.5907 Z\" fill=\"#000000\" fill-rule=\"evenodd\" fill-opacity=\"1\" /><path clip-path=\"url(#clip151)\" d=\"M132.194 103.221 Q132.194 101.14 133.32 100.355 Q134.446 99.5359 135.641 99.5359 Q137.245 99.5359 138.166 100.56 Q139.122 101.549 139.122 102.948 Q139.122 104.347 138.166 105.371 Q137.245 106.361 135.641 106.361 Q134.856 106.361 134.446 106.224 Q135.368 109.432 138.166 111.752 Q140.998 114.073 144.718 114.073 Q149.393 114.073 152.191 109.534 Q153.863 106.6 153.863 99.9454 Q153.863 94.0759 152.601 91.1412 Q150.656 86.6709 146.663 86.6709 Q140.998 86.6709 137.654 91.5507 Q137.245 92.1649 136.767 92.1991 Q136.084 92.1991 135.914 91.8237 Q135.777 91.4142 135.777 90.3563 L135.777 69.6768 Q135.777 68.0047 136.46 68.0047 Q136.733 68.0047 137.313 68.2094 Q141.715 70.1545 146.595 70.1886 Q151.611 70.1886 156.116 68.1412 Q156.457 67.9364 156.662 67.9364 Q157.344 67.9364 157.378 68.7213 Q157.378 68.9943 156.798 69.8133 Q156.252 70.5981 155.058 71.656 Q153.863 72.6797 152.328 73.6694 Q150.792 74.659 148.54 75.3415 Q146.322 75.9898 143.865 75.9898 Q140.93 75.9898 137.927 75.0685 L137.927 88.6842 Q141.544 85.1353 146.8 85.1353 Q152.396 85.1353 156.252 89.6397 Q160.108 94.1442 160.108 100.423 Q160.108 107.009 155.535 111.514 Q150.997 116.018 144.854 116.018 Q139.258 116.018 135.709 112.025 Q132.194 108.033 132.194 103.221 Z\" fill=\"#000000\" fill-rule=\"evenodd\" fill-opacity=\"1\" /><polyline clip-path=\"url(#clip151)\" style=\"stroke:#000000; stroke-linecap:butt; stroke-linejoin:round; stroke-width:3.6; stroke-opacity:1; fill:none\" points=\"\n",
       "  180,1665 180,1665 199.892,1665 180,1665 180,1614.38 219.784,1614.38 180,1614.38 180,1563.75 199.892,1563.75 180,1563.75 \n",
       "  180,1513.12 199.892,1513.12 180,1513.12 180,1462.5 199.892,1462.5 180,1462.5 180,1411.88 199.892,1411.88 180,1411.88 180,1361.25 \n",
       "  219.784,1361.25 180,1361.25 180,1310.62 199.892,1310.62 180,1310.62 180,1260 199.892,1260 180,1260 180,1209.38 199.892,1209.38 \n",
       "  180,1209.38 180,1158.75 199.892,1158.75 180,1158.75 180,1108.12 219.784,1108.12 180,1108.12 180,1057.5 199.892,1057.5 180,1057.5 \n",
       "  180,1006.88 199.892,1006.88 180,1006.88 180,956.25 199.892,956.25 180,956.25 180,905.625 199.892,905.625 180,905.625 180,855 \n",
       "  219.784,855 180,855 180,804.375 199.892,804.375 180,804.375 180,753.75 199.892,753.75 180,753.75 180,703.125 199.892,703.125 \n",
       "  180,703.125 180,652.5 199.892,652.5 180,652.5 180,601.875 219.784,601.875 180,601.875 180,551.25 199.892,551.25 180,551.25 \n",
       "  180,500.625 199.892,500.625 180,500.625 180,450 199.892,450 180,450 180,399.375 199.892,399.375 180,399.375 180,348.75 \n",
       "  219.784,348.75 180,348.75 180,298.125 199.892,298.125 180,298.125 180,247.5 199.892,247.5 180,247.5 180,196.875 199.892,196.875 \n",
       "  180,196.875 180,146.25 199.892,146.25 180,146.25 180,95.625 219.784,95.625 180,95.625 180,45 199.892,45 180,45 \n",
       "  \n",
       "  \"/>\n",
       "<path clip-path=\"url(#clip151)\" d=\"M158.041 1725.63 Q158.45 1726.04 158.45 1726.62 Q158.45 1727.2 158.041 1727.61 Q157.631 1728.02 157.051 1728.02 L113.303 1728.02 Q112.723 1728.02 112.314 1727.61 Q111.904 1727.2 111.904 1726.62 Q111.904 1726.04 112.314 1725.63 Q112.723 1725.22 113.303 1725.22 L157.051 1725.22 Q157.631 1725.22 158.041 1725.63 Z\" fill=\"#000000\" fill-rule=\"evenodd\" fill-opacity=\"1\" /><path clip-path=\"url(#clip151)\" d=\"M165.07 1721.74 Q165.07 1711.47 167.664 1705.87 Q171.281 1697.54 179.812 1697.54 Q181.621 1697.54 183.498 1698.06 Q185.409 1698.53 187.797 1700.41 Q190.22 1702.29 191.688 1705.36 Q194.486 1711.3 194.486 1721.74 Q194.486 1731.94 191.892 1737.5 Q188.105 1745.63 179.744 1745.63 Q176.605 1745.63 173.397 1744.02 Q170.223 1742.42 168.21 1738.56 Q165.07 1732.79 165.07 1721.74 M170.872 1720.89 Q170.872 1731.43 171.622 1735.63 Q172.476 1740.17 174.796 1742.14 Q177.151 1744.09 179.744 1744.09 Q182.542 1744.09 184.863 1742.01 Q187.217 1739.89 187.934 1735.35 Q188.719 1730.88 188.685 1720.89 Q188.685 1711.16 188.002 1707.27 Q187.081 1702.73 184.624 1700.92 Q182.201 1699.08 179.744 1699.08 Q178.823 1699.08 177.833 1699.35 Q176.878 1699.63 175.478 1700.41 Q174.079 1701.2 172.987 1703.14 Q171.93 1705.09 171.418 1708.02 Q170.872 1711.81 170.872 1720.89 Z\" fill=\"#000000\" fill-rule=\"evenodd\" fill-opacity=\"1\" /><path clip-path=\"url(#clip151)\" d=\"M204.28 1742.96 Q203.222 1741.84 203.222 1740.37 Q203.222 1738.9 204.28 1737.85 Q205.338 1736.75 206.941 1736.75 Q208.477 1736.75 209.501 1737.78 Q210.559 1738.77 210.559 1740.4 Q210.559 1742.01 209.433 1743.07 Q208.341 1744.09 206.941 1744.09 Q205.338 1744.09 204.28 1742.96 Z\" fill=\"#000000\" fill-rule=\"evenodd\" fill-opacity=\"1\" /><path clip-path=\"url(#clip151)\" d=\"M220.182 1744.09 Q220.182 1742.83 220.284 1742.45 Q220.421 1742.08 220.967 1741.5 L234.378 1726.55 Q241.714 1718.29 241.714 1711.09 Q241.714 1706.42 239.257 1703.07 Q236.835 1699.73 232.364 1699.73 Q229.293 1699.73 226.7 1701.6 Q224.106 1703.48 222.912 1706.83 Q223.117 1706.76 223.833 1706.76 Q225.573 1706.76 226.529 1707.85 Q227.519 1708.94 227.519 1710.41 Q227.519 1712.29 226.29 1713.21 Q225.096 1714.09 223.901 1714.09 Q223.424 1714.09 222.775 1713.99 Q222.161 1713.89 221.171 1712.93 Q220.182 1711.94 220.182 1710.2 Q220.182 1705.32 223.867 1701.43 Q227.587 1697.54 233.252 1697.54 Q239.667 1697.54 243.864 1701.37 Q248.096 1705.15 248.096 1711.09 Q248.096 1713.17 247.447 1715.08 Q246.833 1716.96 245.98 1718.43 Q245.161 1719.9 242.909 1722.25 Q240.657 1724.6 238.848 1726.28 Q237.039 1727.95 232.979 1731.5 L225.573 1738.7 L238.165 1738.7 Q244.308 1738.7 244.786 1738.15 Q245.468 1737.16 246.321 1731.94 L248.096 1731.94 L246.117 1744.09 L220.182 1744.09 Z\" fill=\"#000000\" fill-rule=\"evenodd\" fill-opacity=\"1\" /><path clip-path=\"url(#clip151)\" d=\"M684.099 1725.63 Q684.508 1726.04 684.508 1726.62 Q684.508 1727.2 684.099 1727.61 Q683.689 1728.02 683.109 1728.02 L639.361 1728.02 Q638.781 1728.02 638.372 1727.61 Q637.962 1727.2 637.962 1726.62 Q637.962 1726.04 638.372 1725.63 Q638.781 1725.22 639.361 1725.22 L683.109 1725.22 Q683.689 1725.22 684.099 1725.63 Z\" fill=\"#000000\" fill-rule=\"evenodd\" fill-opacity=\"1\" /><path clip-path=\"url(#clip151)\" d=\"M691.128 1721.74 Q691.128 1711.47 693.722 1705.87 Q697.339 1697.54 705.87 1697.54 Q707.679 1697.54 709.556 1698.06 Q711.467 1698.53 713.855 1700.41 Q716.278 1702.29 717.746 1705.36 Q720.544 1711.3 720.544 1721.74 Q720.544 1731.94 717.95 1737.5 Q714.162 1745.63 705.802 1745.63 Q702.662 1745.63 699.455 1744.02 Q696.281 1742.42 694.268 1738.56 Q691.128 1732.79 691.128 1721.74 M696.93 1720.89 Q696.93 1731.43 697.68 1735.63 Q698.533 1740.17 700.854 1742.14 Q703.208 1744.09 705.802 1744.09 Q708.6 1744.09 710.921 1742.01 Q713.275 1739.89 713.992 1735.35 Q714.777 1730.88 714.743 1720.89 Q714.743 1711.16 714.06 1707.27 Q713.139 1702.73 710.682 1700.92 Q708.259 1699.08 705.802 1699.08 Q704.881 1699.08 703.891 1699.35 Q702.935 1699.63 701.536 1700.41 Q700.137 1701.2 699.045 1703.14 Q697.987 1705.09 697.476 1708.02 Q696.93 1711.81 696.93 1720.89 Z\" fill=\"#000000\" fill-rule=\"evenodd\" fill-opacity=\"1\" /><path clip-path=\"url(#clip151)\" d=\"M730.338 1742.96 Q729.28 1741.84 729.28 1740.37 Q729.28 1738.9 730.338 1737.85 Q731.395 1736.75 732.999 1736.75 Q734.535 1736.75 735.559 1737.78 Q736.616 1738.77 736.616 1740.4 Q736.616 1742.01 735.49 1743.07 Q734.398 1744.09 732.999 1744.09 Q731.395 1744.09 730.338 1742.96 Z\" fill=\"#000000\" fill-rule=\"evenodd\" fill-opacity=\"1\" /><path clip-path=\"url(#clip151)\" d=\"M748.97 1704.2 L748.97 1702.01 Q757.364 1702.01 761.698 1697.54 Q762.892 1697.54 763.097 1697.82 Q763.302 1698.09 763.302 1699.35 L763.302 1738.56 Q763.302 1740.64 764.326 1741.29 Q765.349 1741.94 769.82 1741.94 L772.038 1741.94 L772.038 1744.09 Q769.581 1743.89 760.709 1743.89 Q751.836 1743.89 749.413 1744.09 L749.413 1741.94 L751.631 1741.94 Q756.033 1741.94 757.091 1741.33 Q758.149 1740.68 758.149 1738.56 L758.149 1702.36 Q754.498 1704.2 748.97 1704.2 Z\" fill=\"#000000\" fill-rule=\"evenodd\" fill-opacity=\"1\" /><path clip-path=\"url(#clip151)\" d=\"M1215.29 1721.74 Q1215.29 1711.47 1217.89 1705.87 Q1221.5 1697.54 1230.03 1697.54 Q1231.84 1697.54 1233.72 1698.06 Q1235.63 1698.53 1238.02 1700.41 Q1240.44 1702.29 1241.91 1705.36 Q1244.71 1711.3 1244.71 1721.74 Q1244.71 1731.94 1242.11 1737.5 Q1238.33 1745.63 1229.97 1745.63 Q1226.83 1745.63 1223.62 1744.02 Q1220.45 1742.42 1218.43 1738.56 Q1215.29 1732.79 1215.29 1721.74 M1221.09 1720.89 Q1221.09 1731.43 1221.84 1735.63 Q1222.7 1740.17 1225.02 1742.14 Q1227.37 1744.09 1229.97 1744.09 Q1232.76 1744.09 1235.08 1742.01 Q1237.44 1739.89 1238.16 1735.35 Q1238.94 1730.88 1238.91 1720.89 Q1238.91 1711.16 1238.22 1707.27 Q1237.3 1702.73 1234.85 1700.92 Q1232.42 1699.08 1229.97 1699.08 Q1229.04 1699.08 1228.05 1699.35 Q1227.1 1699.63 1225.7 1700.41 Q1224.3 1701.2 1223.21 1703.14 Q1222.15 1705.09 1221.64 1708.02 Q1221.09 1711.81 1221.09 1720.89 Z\" fill=\"#000000\" fill-rule=\"evenodd\" fill-opacity=\"1\" /><path clip-path=\"url(#clip151)\" d=\"M1714.55 1721.74 Q1714.55 1711.47 1717.14 1705.87 Q1720.76 1697.54 1729.29 1697.54 Q1731.1 1697.54 1732.97 1698.06 Q1734.88 1698.53 1737.27 1700.41 Q1739.7 1702.29 1741.16 1705.36 Q1743.96 1711.3 1743.96 1721.74 Q1743.96 1731.94 1741.37 1737.5 Q1737.58 1745.63 1729.22 1745.63 Q1726.08 1745.63 1722.87 1744.02 Q1719.7 1742.42 1717.68 1738.56 Q1714.55 1732.79 1714.55 1721.74 M1720.35 1720.89 Q1720.35 1731.43 1721.1 1735.63 Q1721.95 1740.17 1724.27 1742.14 Q1726.63 1744.09 1729.22 1744.09 Q1732.02 1744.09 1734.34 1742.01 Q1736.69 1739.89 1737.41 1735.35 Q1738.19 1730.88 1738.16 1720.89 Q1738.16 1711.16 1737.48 1707.27 Q1736.56 1702.73 1734.1 1700.92 Q1731.68 1699.08 1729.22 1699.08 Q1728.3 1699.08 1727.31 1699.35 Q1726.35 1699.63 1724.95 1700.41 Q1723.55 1701.2 1722.46 1703.14 Q1721.4 1705.09 1720.89 1708.02 Q1720.35 1711.81 1720.35 1720.89 Z\" fill=\"#000000\" fill-rule=\"evenodd\" fill-opacity=\"1\" /><path clip-path=\"url(#clip151)\" d=\"M1753.75 1742.96 Q1752.7 1741.84 1752.7 1740.37 Q1752.7 1738.9 1753.75 1737.85 Q1754.81 1736.75 1756.42 1736.75 Q1757.95 1736.75 1758.98 1737.78 Q1760.03 1738.77 1760.03 1740.4 Q1760.03 1742.01 1758.91 1743.07 Q1757.82 1744.09 1756.42 1744.09 Q1754.81 1744.09 1753.75 1742.96 Z\" fill=\"#000000\" fill-rule=\"evenodd\" fill-opacity=\"1\" /><path clip-path=\"url(#clip151)\" d=\"M1772.39 1704.2 L1772.39 1702.01 Q1780.78 1702.01 1785.12 1697.54 Q1786.31 1697.54 1786.51 1697.82 Q1786.72 1698.09 1786.72 1699.35 L1786.72 1738.56 Q1786.72 1740.64 1787.74 1741.29 Q1788.77 1741.94 1793.24 1741.94 L1795.45 1741.94 L1795.45 1744.09 Q1793 1743.89 1784.13 1743.89 Q1775.25 1743.89 1772.83 1744.09 L1772.83 1741.94 L1775.05 1741.94 Q1779.45 1741.94 1780.51 1741.33 Q1781.57 1740.68 1781.57 1738.56 L1781.57 1702.36 Q1777.91 1704.2 1772.39 1704.2 Z\" fill=\"#000000\" fill-rule=\"evenodd\" fill-opacity=\"1\" /><path clip-path=\"url(#clip151)\" d=\"M2238.49 1721.74 Q2238.49 1711.47 2241.08 1705.87 Q2244.7 1697.54 2253.23 1697.54 Q2255.04 1697.54 2256.91 1698.06 Q2258.83 1698.53 2261.21 1700.41 Q2263.64 1702.29 2265.1 1705.36 Q2267.9 1711.3 2267.9 1721.74 Q2267.9 1731.94 2265.31 1737.5 Q2261.52 1745.63 2253.16 1745.63 Q2250.02 1745.63 2246.81 1744.02 Q2243.64 1742.42 2241.63 1738.56 Q2238.49 1732.79 2238.49 1721.74 M2244.29 1720.89 Q2244.29 1731.43 2245.04 1735.63 Q2245.89 1740.17 2248.21 1742.14 Q2250.57 1744.09 2253.16 1744.09 Q2255.96 1744.09 2258.28 1742.01 Q2260.63 1739.89 2261.35 1735.35 Q2262.14 1730.88 2262.1 1720.89 Q2262.1 1711.16 2261.42 1707.27 Q2260.5 1702.73 2258.04 1700.92 Q2255.62 1699.08 2253.16 1699.08 Q2252.24 1699.08 2251.25 1699.35 Q2250.29 1699.63 2248.9 1700.41 Q2247.5 1701.2 2246.4 1703.14 Q2245.35 1705.09 2244.83 1708.02 Q2244.29 1711.81 2244.29 1720.89 Z\" fill=\"#000000\" fill-rule=\"evenodd\" fill-opacity=\"1\" /><path clip-path=\"url(#clip151)\" d=\"M2277.7 1742.96 Q2276.64 1741.84 2276.64 1740.37 Q2276.64 1738.9 2277.7 1737.85 Q2278.75 1736.75 2280.36 1736.75 Q2281.89 1736.75 2282.92 1737.78 Q2283.98 1738.77 2283.98 1740.4 Q2283.98 1742.01 2282.85 1743.07 Q2281.76 1744.09 2280.36 1744.09 Q2278.75 1744.09 2277.7 1742.96 Z\" fill=\"#000000\" fill-rule=\"evenodd\" fill-opacity=\"1\" /><path clip-path=\"url(#clip151)\" d=\"M2293.6 1744.09 Q2293.6 1742.83 2293.7 1742.45 Q2293.84 1742.08 2294.38 1741.5 L2307.79 1726.55 Q2315.13 1718.29 2315.13 1711.09 Q2315.13 1706.42 2312.67 1703.07 Q2310.25 1699.73 2305.78 1699.73 Q2302.71 1699.73 2300.12 1701.6 Q2297.52 1703.48 2296.33 1706.83 Q2296.53 1706.76 2297.25 1706.76 Q2298.99 1706.76 2299.95 1707.85 Q2300.94 1708.94 2300.94 1710.41 Q2300.94 1712.29 2299.71 1713.21 Q2298.51 1714.09 2297.32 1714.09 Q2296.84 1714.09 2296.19 1713.99 Q2295.58 1713.89 2294.59 1712.93 Q2293.6 1711.94 2293.6 1710.2 Q2293.6 1705.32 2297.28 1701.43 Q2301 1697.54 2306.67 1697.54 Q2313.08 1697.54 2317.28 1701.37 Q2321.51 1705.15 2321.51 1711.09 Q2321.51 1713.17 2320.86 1715.08 Q2320.25 1716.96 2319.4 1718.43 Q2318.58 1719.9 2316.33 1722.25 Q2314.07 1724.6 2312.26 1726.28 Q2310.46 1727.95 2306.4 1731.5 L2298.99 1738.7 L2311.58 1738.7 Q2317.72 1738.7 2318.2 1738.15 Q2318.89 1737.16 2319.74 1731.94 L2321.51 1731.94 L2319.53 1744.09 L2293.6 1744.09 Z\" fill=\"#000000\" fill-rule=\"evenodd\" fill-opacity=\"1\" /><polyline clip-path=\"url(#clip151)\" style=\"stroke:#000000; stroke-linecap:butt; stroke-linejoin:round; stroke-width:3.6; stroke-opacity:1; fill:none\" points=\"\n",
       "  180,1665 180,1665 180,1625.22 180,1665 285,1665 285,1645.11 285,1665 390,1665 390,1645.11 390,1665 \n",
       "  495,1665 495,1645.11 495,1665 600,1665 600,1645.11 600,1665 705,1665 705,1625.22 705,1665 810,1665 \n",
       "  810,1645.11 810,1665 915,1665 915,1645.11 915,1665 1020,1665 1020,1645.11 1020,1665 1125,1665 1125,1645.11 \n",
       "  1125,1665 1230,1665 1230,1625.22 1230,1665 1335,1665 1335,1645.11 1335,1665 1440,1665 1440,1645.11 1440,1665 \n",
       "  1545,1665 1545,1645.11 1545,1665 1650,1665 1650,1645.11 1650,1665 1755,1665 1755,1625.22 1755,1665 1860,1665 \n",
       "  1860,1645.11 1860,1665 1965,1665 1965,1645.11 1965,1665 2070,1665 2070,1645.11 2070,1665 2175,1665 2175,1645.11 \n",
       "  2175,1665 2280,1665 2280,1625.22 2280,1665 \n",
       "  \"/>\n",
       "<polyline clip-path=\"url(#clip151)\" style=\"stroke:#000000; stroke-linecap:butt; stroke-linejoin:round; stroke-width:3.6; stroke-opacity:1; fill:none\" points=\"\n",
       "  2280,1665 2280,1665 2260.11,1665 2280,1665 2280,1614.38 2240.22,1614.38 2280,1614.38 2280,1563.75 2260.11,1563.75 2280,1563.75 \n",
       "  2280,1513.12 2260.11,1513.12 2280,1513.12 2280,1462.5 2260.11,1462.5 2280,1462.5 2280,1411.88 2260.11,1411.88 2280,1411.88 2280,1361.25 \n",
       "  2240.22,1361.25 2280,1361.25 2280,1310.62 2260.11,1310.62 2280,1310.62 2280,1260 2260.11,1260 2280,1260 2280,1209.38 2260.11,1209.38 \n",
       "  2280,1209.38 2280,1158.75 2260.11,1158.75 2280,1158.75 2280,1108.12 2240.22,1108.12 2280,1108.12 2280,1057.5 2260.11,1057.5 2280,1057.5 \n",
       "  2280,1006.88 2260.11,1006.88 2280,1006.88 2280,956.25 2260.11,956.25 2280,956.25 2280,905.625 2260.11,905.625 2280,905.625 2280,855 \n",
       "  2240.22,855 2280,855 2280,804.375 2260.11,804.375 2280,804.375 2280,753.75 2260.11,753.75 2280,753.75 2280,703.125 2260.11,703.125 \n",
       "  2280,703.125 2280,652.5 2260.11,652.5 2280,652.5 2280,601.875 2240.22,601.875 2280,601.875 2280,551.25 2260.11,551.25 2280,551.25 \n",
       "  2280,500.625 2260.11,500.625 2280,500.625 2280,450 2260.11,450 2280,450 2280,399.375 2260.11,399.375 2280,399.375 2280,348.75 \n",
       "  2240.22,348.75 2280,348.75 2280,298.125 2260.11,298.125 2280,298.125 2280,247.5 2260.11,247.5 2280,247.5 2280,196.875 2260.11,196.875 \n",
       "  2280,196.875 2280,146.25 2260.11,146.25 2280,146.25 2280,95.625 2240.22,95.625 2280,95.625 2280,45 2260.11,45 2280,45 \n",
       "  \n",
       "  \"/>\n",
       "<polyline clip-path=\"url(#clip151)\" style=\"stroke:#000000; stroke-linecap:butt; stroke-linejoin:round; stroke-width:3.6; stroke-opacity:1; fill:none\" points=\"\n",
       "  180,45 180,45 180,84.7837 180,45 285,45 285,64.8918 285,45 390,45 390,64.8918 390,45 \n",
       "  495,45 495,64.8918 495,45 600,45 600,64.8918 600,45 705,45 705,84.7837 705,45 810,45 \n",
       "  810,64.8918 810,45 915,45 915,64.8918 915,45 1020,45 1020,64.8918 1020,45 1125,45 1125,64.8918 \n",
       "  1125,45 1230,45 1230,84.7837 1230,45 1335,45 1335,64.8918 1335,45 1440,45 1440,64.8918 1440,45 \n",
       "  1545,45 1545,64.8918 1545,45 1650,45 1650,64.8918 1650,45 1755,45 1755,84.7837 1755,45 1860,45 \n",
       "  1860,64.8918 1860,45 1965,45 1965,64.8918 1965,45 2070,45 2070,64.8918 2070,45 2175,45 2175,64.8918 \n",
       "  2175,45 2280,45 2280,84.7837 2280,45 \n",
       "  \"/>\n",
       "<circle clip-path=\"url(#clip150)\" cx=\"232.5\" cy=\"1623.44\" r=\"21\" fill=\"#00528a\" fill-rule=\"evenodd\" fill-opacity=\"1\" stroke=\"#ffffff\" stroke-opacity=\"1\" stroke-width=\"3.6\"/>\n",
       "<circle clip-path=\"url(#clip150)\" cx=\"285\" cy=\"1589.38\" r=\"21\" fill=\"#00528a\" fill-rule=\"evenodd\" fill-opacity=\"1\" stroke=\"#ffffff\" stroke-opacity=\"1\" stroke-width=\"3.6\"/>\n",
       "<circle clip-path=\"url(#clip150)\" cx=\"337.5\" cy=\"1554.4\" r=\"21\" fill=\"#00528a\" fill-rule=\"evenodd\" fill-opacity=\"1\" stroke=\"#ffffff\" stroke-opacity=\"1\" stroke-width=\"3.6\"/>\n",
       "<circle clip-path=\"url(#clip150)\" cx=\"390\" cy=\"1518.53\" r=\"21\" fill=\"#00528a\" fill-rule=\"evenodd\" fill-opacity=\"1\" stroke=\"#ffffff\" stroke-opacity=\"1\" stroke-width=\"3.6\"/>\n",
       "<circle clip-path=\"url(#clip150)\" cx=\"442.5\" cy=\"1481.8\" r=\"21\" fill=\"#00528a\" fill-rule=\"evenodd\" fill-opacity=\"1\" stroke=\"#ffffff\" stroke-opacity=\"1\" stroke-width=\"3.6\"/>\n",
       "<circle clip-path=\"url(#clip150)\" cx=\"495\" cy=\"1444.22\" r=\"21\" fill=\"#00528a\" fill-rule=\"evenodd\" fill-opacity=\"1\" stroke=\"#ffffff\" stroke-opacity=\"1\" stroke-width=\"3.6\"/>\n",
       "<circle clip-path=\"url(#clip150)\" cx=\"547.5\" cy=\"1405.85\" r=\"21\" fill=\"#00528a\" fill-rule=\"evenodd\" fill-opacity=\"1\" stroke=\"#ffffff\" stroke-opacity=\"1\" stroke-width=\"3.6\"/>\n",
       "<circle clip-path=\"url(#clip150)\" cx=\"600\" cy=\"1366.7\" r=\"21\" fill=\"#00528a\" fill-rule=\"evenodd\" fill-opacity=\"1\" stroke=\"#ffffff\" stroke-opacity=\"1\" stroke-width=\"3.6\"/>\n",
       "<circle clip-path=\"url(#clip150)\" cx=\"652.5\" cy=\"1326.84\" r=\"21\" fill=\"#00528a\" fill-rule=\"evenodd\" fill-opacity=\"1\" stroke=\"#ffffff\" stroke-opacity=\"1\" stroke-width=\"3.6\"/>\n",
       "<circle clip-path=\"url(#clip150)\" cx=\"705\" cy=\"1286.3\" r=\"21\" fill=\"#00528a\" fill-rule=\"evenodd\" fill-opacity=\"1\" stroke=\"#ffffff\" stroke-opacity=\"1\" stroke-width=\"3.6\"/>\n",
       "<circle clip-path=\"url(#clip150)\" cx=\"757.5\" cy=\"1245.13\" r=\"21\" fill=\"#00528a\" fill-rule=\"evenodd\" fill-opacity=\"1\" stroke=\"#ffffff\" stroke-opacity=\"1\" stroke-width=\"3.6\"/>\n",
       "<circle clip-path=\"url(#clip150)\" cx=\"810\" cy=\"1203.4\" r=\"21\" fill=\"#00528a\" fill-rule=\"evenodd\" fill-opacity=\"1\" stroke=\"#ffffff\" stroke-opacity=\"1\" stroke-width=\"3.6\"/>\n",
       "<circle clip-path=\"url(#clip150)\" cx=\"862.5\" cy=\"1161.14\" r=\"21\" fill=\"#00528a\" fill-rule=\"evenodd\" fill-opacity=\"1\" stroke=\"#ffffff\" stroke-opacity=\"1\" stroke-width=\"3.6\"/>\n",
       "<circle clip-path=\"url(#clip150)\" cx=\"915\" cy=\"1118.44\" r=\"21\" fill=\"#00528a\" fill-rule=\"evenodd\" fill-opacity=\"1\" stroke=\"#ffffff\" stroke-opacity=\"1\" stroke-width=\"3.6\"/>\n",
       "<circle clip-path=\"url(#clip150)\" cx=\"967.5\" cy=\"1075.35\" r=\"21\" fill=\"#00528a\" fill-rule=\"evenodd\" fill-opacity=\"1\" stroke=\"#ffffff\" stroke-opacity=\"1\" stroke-width=\"3.6\"/>\n",
       "<circle clip-path=\"url(#clip150)\" cx=\"1020\" cy=\"1031.93\" r=\"21\" fill=\"#00528a\" fill-rule=\"evenodd\" fill-opacity=\"1\" stroke=\"#ffffff\" stroke-opacity=\"1\" stroke-width=\"3.6\"/>\n",
       "<circle clip-path=\"url(#clip150)\" cx=\"1072.5\" cy=\"988.265\" r=\"21\" fill=\"#00528a\" fill-rule=\"evenodd\" fill-opacity=\"1\" stroke=\"#ffffff\" stroke-opacity=\"1\" stroke-width=\"3.6\"/>\n",
       "<circle clip-path=\"url(#clip150)\" cx=\"1125\" cy=\"944.413\" r=\"21\" fill=\"#00528a\" fill-rule=\"evenodd\" fill-opacity=\"1\" stroke=\"#ffffff\" stroke-opacity=\"1\" stroke-width=\"3.6\"/>\n",
       "<circle clip-path=\"url(#clip150)\" cx=\"1177.5\" cy=\"900.449\" r=\"21\" fill=\"#00528a\" fill-rule=\"evenodd\" fill-opacity=\"1\" stroke=\"#ffffff\" stroke-opacity=\"1\" stroke-width=\"3.6\"/>\n",
       "<circle clip-path=\"url(#clip150)\" cx=\"1230\" cy=\"856.445\" r=\"21\" fill=\"#00528a\" fill-rule=\"evenodd\" fill-opacity=\"1\" stroke=\"#ffffff\" stroke-opacity=\"1\" stroke-width=\"3.6\"/>\n",
       "<circle clip-path=\"url(#clip150)\" cx=\"1282.5\" cy=\"812.475\" r=\"21\" fill=\"#00528a\" fill-rule=\"evenodd\" fill-opacity=\"1\" stroke=\"#ffffff\" stroke-opacity=\"1\" stroke-width=\"3.6\"/>\n",
       "<circle clip-path=\"url(#clip150)\" cx=\"1335\" cy=\"768.611\" r=\"21\" fill=\"#00528a\" fill-rule=\"evenodd\" fill-opacity=\"1\" stroke=\"#ffffff\" stroke-opacity=\"1\" stroke-width=\"3.6\"/>\n",
       "<circle clip-path=\"url(#clip150)\" cx=\"1387.5\" cy=\"724.924\" r=\"21\" fill=\"#00528a\" fill-rule=\"evenodd\" fill-opacity=\"1\" stroke=\"#ffffff\" stroke-opacity=\"1\" stroke-width=\"3.6\"/>\n",
       "<circle clip-path=\"url(#clip150)\" cx=\"1440\" cy=\"681.486\" r=\"21\" fill=\"#00528a\" fill-rule=\"evenodd\" fill-opacity=\"1\" stroke=\"#ffffff\" stroke-opacity=\"1\" stroke-width=\"3.6\"/>\n",
       "<circle clip-path=\"url(#clip150)\" cx=\"1492.5\" cy=\"638.365\" r=\"21\" fill=\"#00528a\" fill-rule=\"evenodd\" fill-opacity=\"1\" stroke=\"#ffffff\" stroke-opacity=\"1\" stroke-width=\"3.6\"/>\n",
       "<circle clip-path=\"url(#clip150)\" cx=\"1545\" cy=\"595.629\" r=\"21\" fill=\"#00528a\" fill-rule=\"evenodd\" fill-opacity=\"1\" stroke=\"#ffffff\" stroke-opacity=\"1\" stroke-width=\"3.6\"/>\n",
       "<circle clip-path=\"url(#clip150)\" cx=\"1597.5\" cy=\"553.343\" r=\"21\" fill=\"#00528a\" fill-rule=\"evenodd\" fill-opacity=\"1\" stroke=\"#ffffff\" stroke-opacity=\"1\" stroke-width=\"3.6\"/>\n",
       "<circle clip-path=\"url(#clip150)\" cx=\"1650\" cy=\"511.569\" r=\"21\" fill=\"#00528a\" fill-rule=\"evenodd\" fill-opacity=\"1\" stroke=\"#ffffff\" stroke-opacity=\"1\" stroke-width=\"3.6\"/>\n",
       "<circle clip-path=\"url(#clip150)\" cx=\"1702.5\" cy=\"470.364\" r=\"21\" fill=\"#00528a\" fill-rule=\"evenodd\" fill-opacity=\"1\" stroke=\"#ffffff\" stroke-opacity=\"1\" stroke-width=\"3.6\"/>\n",
       "<circle clip-path=\"url(#clip150)\" cx=\"1755\" cy=\"429.786\" r=\"21\" fill=\"#00528a\" fill-rule=\"evenodd\" fill-opacity=\"1\" stroke=\"#ffffff\" stroke-opacity=\"1\" stroke-width=\"3.6\"/>\n",
       "<circle clip-path=\"url(#clip150)\" cx=\"1807.5\" cy=\"389.885\" r=\"21\" fill=\"#00528a\" fill-rule=\"evenodd\" fill-opacity=\"1\" stroke=\"#ffffff\" stroke-opacity=\"1\" stroke-width=\"3.6\"/>\n",
       "<circle clip-path=\"url(#clip150)\" cx=\"1860\" cy=\"350.709\" r=\"21\" fill=\"#00528a\" fill-rule=\"evenodd\" fill-opacity=\"1\" stroke=\"#ffffff\" stroke-opacity=\"1\" stroke-width=\"3.6\"/>\n",
       "<circle clip-path=\"url(#clip150)\" cx=\"1912.5\" cy=\"312.301\" r=\"21\" fill=\"#00528a\" fill-rule=\"evenodd\" fill-opacity=\"1\" stroke=\"#ffffff\" stroke-opacity=\"1\" stroke-width=\"3.6\"/>\n",
       "<circle clip-path=\"url(#clip150)\" cx=\"1965\" cy=\"274.702\" r=\"21\" fill=\"#00528a\" fill-rule=\"evenodd\" fill-opacity=\"1\" stroke=\"#ffffff\" stroke-opacity=\"1\" stroke-width=\"3.6\"/>\n",
       "<circle clip-path=\"url(#clip150)\" cx=\"2017.5\" cy=\"237.945\" r=\"21\" fill=\"#00528a\" fill-rule=\"evenodd\" fill-opacity=\"1\" stroke=\"#ffffff\" stroke-opacity=\"1\" stroke-width=\"3.6\"/>\n",
       "<circle clip-path=\"url(#clip150)\" cx=\"2070\" cy=\"202.063\" r=\"21\" fill=\"#00528a\" fill-rule=\"evenodd\" fill-opacity=\"1\" stroke=\"#ffffff\" stroke-opacity=\"1\" stroke-width=\"3.6\"/>\n",
       "<circle clip-path=\"url(#clip150)\" cx=\"2122.5\" cy=\"167.08\" r=\"21\" fill=\"#00528a\" fill-rule=\"evenodd\" fill-opacity=\"1\" stroke=\"#ffffff\" stroke-opacity=\"1\" stroke-width=\"3.6\"/>\n",
       "<circle clip-path=\"url(#clip150)\" cx=\"2175\" cy=\"133.02\" r=\"21\" fill=\"#00528a\" fill-rule=\"evenodd\" fill-opacity=\"1\" stroke=\"#ffffff\" stroke-opacity=\"1\" stroke-width=\"3.6\"/>\n",
       "<circle clip-path=\"url(#clip150)\" cx=\"2227.5\" cy=\"99.9011\" r=\"21\" fill=\"#00528a\" fill-rule=\"evenodd\" fill-opacity=\"1\" stroke=\"#ffffff\" stroke-opacity=\"1\" stroke-width=\"3.6\"/>\n",
       "<circle clip-path=\"url(#clip150)\" cx=\"2280\" cy=\"67.7363\" r=\"21\" fill=\"#00528a\" fill-rule=\"evenodd\" fill-opacity=\"1\" stroke=\"#ffffff\" stroke-opacity=\"1\" stroke-width=\"3.6\"/>\n",
       "<circle clip-path=\"url(#clip150)\" cx=\"232.5\" cy=\"1621.79\" r=\"21\" fill=\"#00528a\" fill-rule=\"evenodd\" fill-opacity=\"1\" stroke=\"#ffffff\" stroke-opacity=\"1\" stroke-width=\"3.6\"/>\n",
       "<circle clip-path=\"url(#clip150)\" cx=\"285\" cy=\"1587.62\" r=\"21\" fill=\"#00528a\" fill-rule=\"evenodd\" fill-opacity=\"1\" stroke=\"#ffffff\" stroke-opacity=\"1\" stroke-width=\"3.6\"/>\n",
       "<circle clip-path=\"url(#clip150)\" cx=\"337.5\" cy=\"1552.53\" r=\"21\" fill=\"#00528a\" fill-rule=\"evenodd\" fill-opacity=\"1\" stroke=\"#ffffff\" stroke-opacity=\"1\" stroke-width=\"3.6\"/>\n",
       "<circle clip-path=\"url(#clip150)\" cx=\"390\" cy=\"1516.55\" r=\"21\" fill=\"#00528a\" fill-rule=\"evenodd\" fill-opacity=\"1\" stroke=\"#ffffff\" stroke-opacity=\"1\" stroke-width=\"3.6\"/>\n",
       "<circle clip-path=\"url(#clip150)\" cx=\"442.5\" cy=\"1479.71\" r=\"21\" fill=\"#00528a\" fill-rule=\"evenodd\" fill-opacity=\"1\" stroke=\"#ffffff\" stroke-opacity=\"1\" stroke-width=\"3.6\"/>\n",
       "<circle clip-path=\"url(#clip150)\" cx=\"495\" cy=\"1442.02\" r=\"21\" fill=\"#00528a\" fill-rule=\"evenodd\" fill-opacity=\"1\" stroke=\"#ffffff\" stroke-opacity=\"1\" stroke-width=\"3.6\"/>\n",
       "<circle clip-path=\"url(#clip150)\" cx=\"547.5\" cy=\"1403.53\" r=\"21\" fill=\"#00528a\" fill-rule=\"evenodd\" fill-opacity=\"1\" stroke=\"#ffffff\" stroke-opacity=\"1\" stroke-width=\"3.6\"/>\n",
       "<circle clip-path=\"url(#clip150)\" cx=\"600\" cy=\"1364.28\" r=\"21\" fill=\"#00528a\" fill-rule=\"evenodd\" fill-opacity=\"1\" stroke=\"#ffffff\" stroke-opacity=\"1\" stroke-width=\"3.6\"/>\n",
       "<circle clip-path=\"url(#clip150)\" cx=\"652.5\" cy=\"1324.31\" r=\"21\" fill=\"#00528a\" fill-rule=\"evenodd\" fill-opacity=\"1\" stroke=\"#ffffff\" stroke-opacity=\"1\" stroke-width=\"3.6\"/>\n",
       "<circle clip-path=\"url(#clip150)\" cx=\"705\" cy=\"1283.67\" r=\"21\" fill=\"#00528a\" fill-rule=\"evenodd\" fill-opacity=\"1\" stroke=\"#ffffff\" stroke-opacity=\"1\" stroke-width=\"3.6\"/>\n",
       "<circle clip-path=\"url(#clip150)\" cx=\"757.5\" cy=\"1242.4\" r=\"21\" fill=\"#00528a\" fill-rule=\"evenodd\" fill-opacity=\"1\" stroke=\"#ffffff\" stroke-opacity=\"1\" stroke-width=\"3.6\"/>\n",
       "<circle clip-path=\"url(#clip150)\" cx=\"810\" cy=\"1200.56\" r=\"21\" fill=\"#00528a\" fill-rule=\"evenodd\" fill-opacity=\"1\" stroke=\"#ffffff\" stroke-opacity=\"1\" stroke-width=\"3.6\"/>\n",
       "<circle clip-path=\"url(#clip150)\" cx=\"862.5\" cy=\"1158.22\" r=\"21\" fill=\"#00528a\" fill-rule=\"evenodd\" fill-opacity=\"1\" stroke=\"#ffffff\" stroke-opacity=\"1\" stroke-width=\"3.6\"/>\n",
       "<circle clip-path=\"url(#clip150)\" cx=\"915\" cy=\"1115.43\" r=\"21\" fill=\"#00528a\" fill-rule=\"evenodd\" fill-opacity=\"1\" stroke=\"#ffffff\" stroke-opacity=\"1\" stroke-width=\"3.6\"/>\n",
       "<circle clip-path=\"url(#clip150)\" cx=\"967.5\" cy=\"1072.26\" r=\"21\" fill=\"#00528a\" fill-rule=\"evenodd\" fill-opacity=\"1\" stroke=\"#ffffff\" stroke-opacity=\"1\" stroke-width=\"3.6\"/>\n",
       "<circle clip-path=\"url(#clip150)\" cx=\"1020\" cy=\"1028.77\" r=\"21\" fill=\"#00528a\" fill-rule=\"evenodd\" fill-opacity=\"1\" stroke=\"#ffffff\" stroke-opacity=\"1\" stroke-width=\"3.6\"/>\n",
       "<circle clip-path=\"url(#clip150)\" cx=\"1072.5\" cy=\"985.037\" r=\"21\" fill=\"#00528a\" fill-rule=\"evenodd\" fill-opacity=\"1\" stroke=\"#ffffff\" stroke-opacity=\"1\" stroke-width=\"3.6\"/>\n",
       "<circle clip-path=\"url(#clip150)\" cx=\"1125\" cy=\"941.128\" r=\"21\" fill=\"#00528a\" fill-rule=\"evenodd\" fill-opacity=\"1\" stroke=\"#ffffff\" stroke-opacity=\"1\" stroke-width=\"3.6\"/>\n",
       "<circle clip-path=\"url(#clip150)\" cx=\"1177.5\" cy=\"897.115\" r=\"21\" fill=\"#00528a\" fill-rule=\"evenodd\" fill-opacity=\"1\" stroke=\"#ffffff\" stroke-opacity=\"1\" stroke-width=\"3.6\"/>\n",
       "<circle clip-path=\"url(#clip150)\" cx=\"1230\" cy=\"853.072\" r=\"21\" fill=\"#00528a\" fill-rule=\"evenodd\" fill-opacity=\"1\" stroke=\"#ffffff\" stroke-opacity=\"1\" stroke-width=\"3.6\"/>\n",
       "<circle clip-path=\"url(#clip150)\" cx=\"1282.5\" cy=\"809.071\" r=\"21\" fill=\"#00528a\" fill-rule=\"evenodd\" fill-opacity=\"1\" stroke=\"#ffffff\" stroke-opacity=\"1\" stroke-width=\"3.6\"/>\n",
       "<circle clip-path=\"url(#clip150)\" cx=\"1335\" cy=\"765.185\" r=\"21\" fill=\"#00528a\" fill-rule=\"evenodd\" fill-opacity=\"1\" stroke=\"#ffffff\" stroke-opacity=\"1\" stroke-width=\"3.6\"/>\n",
       "<circle clip-path=\"url(#clip150)\" cx=\"1387.5\" cy=\"721.486\" r=\"21\" fill=\"#00528a\" fill-rule=\"evenodd\" fill-opacity=\"1\" stroke=\"#ffffff\" stroke-opacity=\"1\" stroke-width=\"3.6\"/>\n",
       "<circle clip-path=\"url(#clip150)\" cx=\"1440\" cy=\"678.045\" r=\"21\" fill=\"#00528a\" fill-rule=\"evenodd\" fill-opacity=\"1\" stroke=\"#ffffff\" stroke-opacity=\"1\" stroke-width=\"3.6\"/>\n",
       "<circle clip-path=\"url(#clip150)\" cx=\"1492.5\" cy=\"634.931\" r=\"21\" fill=\"#00528a\" fill-rule=\"evenodd\" fill-opacity=\"1\" stroke=\"#ffffff\" stroke-opacity=\"1\" stroke-width=\"3.6\"/>\n",
       "<circle clip-path=\"url(#clip150)\" cx=\"1545\" cy=\"592.212\" r=\"21\" fill=\"#00528a\" fill-rule=\"evenodd\" fill-opacity=\"1\" stroke=\"#ffffff\" stroke-opacity=\"1\" stroke-width=\"3.6\"/>\n",
       "<circle clip-path=\"url(#clip150)\" cx=\"1597.5\" cy=\"549.951\" r=\"21\" fill=\"#00528a\" fill-rule=\"evenodd\" fill-opacity=\"1\" stroke=\"#ffffff\" stroke-opacity=\"1\" stroke-width=\"3.6\"/>\n",
       "<circle clip-path=\"url(#clip150)\" cx=\"1650\" cy=\"508.21\" r=\"21\" fill=\"#00528a\" fill-rule=\"evenodd\" fill-opacity=\"1\" stroke=\"#ffffff\" stroke-opacity=\"1\" stroke-width=\"3.6\"/>\n",
       "<circle clip-path=\"url(#clip150)\" cx=\"1702.5\" cy=\"467.048\" r=\"21\" fill=\"#00528a\" fill-rule=\"evenodd\" fill-opacity=\"1\" stroke=\"#ffffff\" stroke-opacity=\"1\" stroke-width=\"3.6\"/>\n",
       "<circle clip-path=\"url(#clip150)\" cx=\"1755\" cy=\"426.519\" r=\"21\" fill=\"#00528a\" fill-rule=\"evenodd\" fill-opacity=\"1\" stroke=\"#ffffff\" stroke-opacity=\"1\" stroke-width=\"3.6\"/>\n",
       "<circle clip-path=\"url(#clip150)\" cx=\"1807.5\" cy=\"386.676\" r=\"21\" fill=\"#00528a\" fill-rule=\"evenodd\" fill-opacity=\"1\" stroke=\"#ffffff\" stroke-opacity=\"1\" stroke-width=\"3.6\"/>\n",
       "<circle clip-path=\"url(#clip150)\" cx=\"1860\" cy=\"347.563\" r=\"21\" fill=\"#00528a\" fill-rule=\"evenodd\" fill-opacity=\"1\" stroke=\"#ffffff\" stroke-opacity=\"1\" stroke-width=\"3.6\"/>\n",
       "<circle clip-path=\"url(#clip150)\" cx=\"1912.5\" cy=\"309.226\" r=\"21\" fill=\"#00528a\" fill-rule=\"evenodd\" fill-opacity=\"1\" stroke=\"#ffffff\" stroke-opacity=\"1\" stroke-width=\"3.6\"/>\n",
       "<circle clip-path=\"url(#clip150)\" cx=\"1965\" cy=\"271.702\" r=\"21\" fill=\"#00528a\" fill-rule=\"evenodd\" fill-opacity=\"1\" stroke=\"#ffffff\" stroke-opacity=\"1\" stroke-width=\"3.6\"/>\n",
       "<circle clip-path=\"url(#clip150)\" cx=\"2017.5\" cy=\"235.026\" r=\"21\" fill=\"#00528a\" fill-rule=\"evenodd\" fill-opacity=\"1\" stroke=\"#ffffff\" stroke-opacity=\"1\" stroke-width=\"3.6\"/>\n",
       "<circle clip-path=\"url(#clip150)\" cx=\"2070\" cy=\"199.228\" r=\"21\" fill=\"#00528a\" fill-rule=\"evenodd\" fill-opacity=\"1\" stroke=\"#ffffff\" stroke-opacity=\"1\" stroke-width=\"3.6\"/>\n",
       "<circle clip-path=\"url(#clip150)\" cx=\"2122.5\" cy=\"164.334\" r=\"21\" fill=\"#00528a\" fill-rule=\"evenodd\" fill-opacity=\"1\" stroke=\"#ffffff\" stroke-opacity=\"1\" stroke-width=\"3.6\"/>\n",
       "<circle clip-path=\"url(#clip150)\" cx=\"2175\" cy=\"130.365\" r=\"21\" fill=\"#00528a\" fill-rule=\"evenodd\" fill-opacity=\"1\" stroke=\"#ffffff\" stroke-opacity=\"1\" stroke-width=\"3.6\"/>\n",
       "<circle clip-path=\"url(#clip150)\" cx=\"2227.5\" cy=\"97.3392\" r=\"21\" fill=\"#00528a\" fill-rule=\"evenodd\" fill-opacity=\"1\" stroke=\"#ffffff\" stroke-opacity=\"1\" stroke-width=\"3.6\"/>\n",
       "<circle clip-path=\"url(#clip150)\" cx=\"2280\" cy=\"65.2695\" r=\"21\" fill=\"#00528a\" fill-rule=\"evenodd\" fill-opacity=\"1\" stroke=\"#ffffff\" stroke-opacity=\"1\" stroke-width=\"3.6\"/>\n",
       "</svg>\n"
      ],
      "text/plain": [
       "GR.SVG(UInt8[0x3c, 0x3f, 0x78, 0x6d, 0x6c, 0x20, 0x76, 0x65, 0x72, 0x73  …  0x2f, 0x3e, 0x0a, 0x3c, 0x2f, 0x73, 0x76, 0x67, 0x3e, 0x0a])"
      ]
     },
     "execution_count": 117,
     "metadata": {},
     "output_type": "execute_result"
    }
   ],
   "source": [
    "k = 2\n",
    "\n",
    "X2 = vcat([[i, 1.0, i] for i in -0.1*k:0.01:0.1*k], [[i, 1.4, i] for i in -0.1*k:0.01:0.1*k])\n",
    "\n",
    "pred = (x) -> [block2.specific.NNs[1](x[1:2])[1], x...]\n",
    "\n",
    "XY = hcat(pred.(X2)...)\n",
    "\n",
    "scatter(XY[4, :], XY[1, :])"
   ]
  },
  {
   "cell_type": "code",
   "execution_count": null,
   "id": "e9e53d30-7580-4620-99a6-f6761678bf02",
   "metadata": {},
   "outputs": [],
   "source": []
  },
  {
   "cell_type": "code",
   "execution_count": null,
   "id": "021527e2-268c-4063-a3fa-8f097a0eb24d",
   "metadata": {},
   "outputs": [],
   "source": []
  }
 ],
 "metadata": {
  "kernelspec": {
   "display_name": "Julia 1.6.4",
   "language": "julia",
   "name": "julia-1.6"
  },
  "language_info": {
   "file_extension": ".jl",
   "mimetype": "application/julia",
   "name": "julia",
   "version": "1.6.4"
  }
 },
 "nbformat": 4,
 "nbformat_minor": 5
}
