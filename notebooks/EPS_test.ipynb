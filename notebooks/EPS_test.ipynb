{
 "cells": [
  {
   "cell_type": "code",
   "execution_count": 1,
   "id": "f2202b43-d2c1-4b1b-b4fb-d1089b4900a1",
   "metadata": {},
   "outputs": [
    {
     "name": "stderr",
     "output_type": "stream",
     "text": [
      "\u001b[32m\u001b[1m  Activating\u001b[22m\u001b[39m environment at `/mnt/D/git_repos/PeriDyn/Project.toml`\n",
      "┌ Info: Precompiling PeriDyn [c3db0ce0-6d7e-41b5-be11-bcb6aafada44]\n",
      "└ @ Base loading.jl:1342\n",
      "WARNING: Method definition (::Type{PeriDyn.PeridynamicsMaterial})(Any, Any, Any, Any) in module PeriDyn at /mnt/D/git_repos/PeriDyn/src/materials/material.jl:17 overwritten at /mnt/D/git_repos/PeriDyn/src/materials/pairwiseNN.jl:26.\n",
      "  ** incremental compilation may be fatally broken for this module **\n",
      "\n"
     ]
    }
   ],
   "source": [
    "using Pkg\n",
    "\n",
    "Pkg.activate(\"..\")\n",
    "using Revise\n",
    "using PeriDyn\n",
    "using PDMesh"
   ]
  },
  {
   "cell_type": "code",
   "execution_count": null,
   "id": "6d5b321f-5fdc-4b89-bbd7-247694eb7161",
   "metadata": {},
   "outputs": [],
   "source": [
    "obj = Cuboid([0 6; 0 1; 0 1])\n",
    "out = create(obj, resolution=0.1,rand_=0.05, type=1)\n",
    "\n",
    "Es = 100 # GPa \n",
    "nu = 0.3333         # Poisson's Ratio \n",
    "K = Es/3/(1-2nu)    # Bulk Modulus\n",
    "G = Es/2/(1+nu)     # Shear Modulus\n",
    "den = 1000.0        # Density in Kg m ^-3\n",
    "horizon = 0.3\n",
    "σ = 0.7Es\n",
    "println(σ)\n",
    "s = 100.0\n",
    "\n",
    "mat_gen = GeneralMaterial(out[:y], out[:v], out[:x], out[:volume], out[:type], 0.3; max_neigh=200)\n",
    "# mat_spec = ElastoPlasticSolidSpecific([K] ,[G] ,[s] ,[den], [σ])\n",
    "mat_spec = OrdinaryStateBasedSpecific([K] ,[G] ,[s] ,[den])\n",
    "block = PeridynamicsMaterial(mat_gen, mat_spec)\n",
    "\n",
    "\n",
    "\n",
    "BC1 = MoveBC(out[:y][1, :] .< 0.5, [-0.05, 0.0, 0.0])#, 40; applyafter=60)\n",
    "BC2 = MoveBC(out[:y][1, :] .> 5.5, [ 0.05, 0.0, 0.0])#, 40; applyafter=60)\n",
    "\n",
    "k = 0.000005\n",
    "exp=4.0\n",
    "RM1 = NonLinearRepulsionModel(exp,k, block; distanceX=3, max_neighs=200)\n",
    "\n",
    "dt = 0.5\n",
    "env = PeriDyn.Env(1, [block], [RM1], [BC1, BC2], dt)\n",
    "\n",
    "udf = Int(1/dt)\n"
   ]
  },
  {
   "cell_type": "code",
   "execution_count": null,
   "id": "3d59c8d4-199d-4f29-b66e-887d33bc68fd",
   "metadata": {
    "tags": []
   },
   "outputs": [],
   "source": [
    "udf = 1\n",
    "Steps = 500*udf\n",
    "\n",
    "PeriDyn.simulate([env], Steps; solver=:vv, filewrite_freq=udf, neigh_update_freq=udf, file_prefix=\"Tensile1\",start_at=0)"
   ]
  },
  {
   "cell_type": "code",
   "execution_count": null,
   "id": "c41529b3-ffb6-4042-9a46-2fbf09548187",
   "metadata": {},
   "outputs": [],
   "source": []
  },
  {
   "cell_type": "code",
   "execution_count": null,
   "id": "ba817ca5-afbf-4553-afb4-30af23734209",
   "metadata": {},
   "outputs": [],
   "source": []
  }
 ],
 "metadata": {
  "kernelspec": {
   "display_name": "Julia 1.6.4",
   "language": "julia",
   "name": "julia-1.6"
  },
  "language_info": {
   "file_extension": ".jl",
   "mimetype": "application/julia",
   "name": "julia",
   "version": "1.6.4"
  }
 },
 "nbformat": 4,
 "nbformat_minor": 5
}
