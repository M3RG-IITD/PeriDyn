{
 "cells": [
  {
   "cell_type": "markdown",
   "metadata": {},
   "source": [
    "## Import PeriDyn packages"
   ]
  },
  {
   "cell_type": "code",
   "execution_count": 1,
   "metadata": {},
   "outputs": [
    {
     "name": "stderr",
     "output_type": "stream",
     "text": [
      "┌ Info: Precompiling PeriDyn [c3db0ce0-6d7e-41b5-be11-bcb6aafada44]\n",
      "└ @ Base loading.jl:1273\n"
     ]
    }
   ],
   "source": [
    "using PeriDyn\n"
   ]
  },
  {
   "cell_type": "markdown",
   "metadata": {},
   "source": [
    "## Create mesh for first block"
   ]
  },
  {
   "cell_type": "code",
   "execution_count": 2,
   "metadata": {},
   "outputs": [
    {
     "data": {
      "text/plain": [
       "0.15"
      ]
     },
     "execution_count": 2,
     "metadata": {},
     "output_type": "execute_result"
    }
   ],
   "source": [
    "x1, v1, y1, vol1 = create_block([1.0,1,1],[100,100,10])\n",
    "den1 = 1000.0\n",
    "hor1 = 3.0\n",
    "cstretch1 = 0.15\n"
   ]
  },
  {
   "cell_type": "markdown",
   "metadata": {},
   "source": [
    "## Create first material block"
   ]
  },
  {
   "cell_type": "code",
   "execution_count": 3,
   "metadata": {},
   "outputs": [
    {
     "data": {
      "text/plain": [
       "OrdinaryStateBasedMaterial(1, GeneralMaterial([1.0 1.0 … 100.0 100.0; 1.0 1.0 … 100.0 100.0; 1.0 2.0 … 9.0 10.0], [0.0 0.0 … 0.0 0.0; 0.0 0.0 … 0.0 0.0; 0.0 0.0 … 0.0 0.0], [1.0 1.0 … 100.0 100.0; 1.0 1.0 … 100.0 100.0; 1.0 2.0 … 9.0 10.0], 1.0, [1.0, 1.0, 1.0, 1.0, 1.0, 1.0, 1.0, 1.0, 1.0, 1.0  …  1.0, 1.0, 1.0, 1.0, 1.0, 1.0, 1.0, 1.0, 1.0, 1.0], 1000.0, 3.0, 0.15, [0 0 … 0 0; 0 0 … 0 0; … ; 2012 2013 … 99998 99998; 2021 2022 … 100000 99999], Bool[0 0 … 0 0; 0 0 … 0 0; … ; 1 1 … 1 1; 1 1 … 1 1]), OrdinaryStateBasedSpecific(1.0, 1.0, [44.224849962275016, 59.156443335156034, 73.73492328243114, 73.73492328243114, 73.73492328243114, 73.73492328243114, 73.73492328243114, 73.73492328243114, 59.156443335156034, 44.22484996227502  …  44.224849962275016, 59.15644333515602, 73.73492328243114, 73.73492328243114, 73.73492328243114, 73.73492328243114, 73.73492328243114, 73.73492328243114, 59.15644333515601, 44.224849962275016]))"
      ]
     },
     "execution_count": 3,
     "metadata": {},
     "output_type": "execute_result"
    }
   ],
   "source": [
    "mat_gen1 = GeneralMaterial(y1, v1, x1, vol1, den1, hor1, cstretch1, max_neigh=200)\n",
    "\n",
    "K, G = 1.0, 1.0\n",
    "mat_spec1 = OrdinaryStateBasedSpecific(K,G,mat_gen1)\n",
    "\n",
    "id = 1::Int64\n",
    "block1 = OrdinaryStateBasedMaterial(id, mat_gen1, mat_spec1)\n"
   ]
  },
  {
   "cell_type": "markdown",
   "metadata": {},
   "source": [
    "## Create mesh for second block"
   ]
  },
  {
   "cell_type": "code",
   "execution_count": 4,
   "metadata": {},
   "outputs": [
    {
     "data": {
      "text/plain": [
       "0.5"
      ]
     },
     "execution_count": 4,
     "metadata": {},
     "output_type": "execute_result"
    }
   ],
   "source": [
    "x2, v2, y2, vol2 = create_block([1.0,1,1],[10,10,10])\n",
    "\n",
    "x2[1,:] .+= 10.5\n",
    "x2[2,:] .+= 20.5\n",
    "x2[3,:] .+= 20.5\n",
    "\n",
    "v2[1,:] .-= 0.01\n",
    "\n",
    "den2 = 10000.0\n",
    "hor2 = 3.0\n",
    "cstretch2 = 0.5\n"
   ]
  },
  {
   "cell_type": "markdown",
   "metadata": {},
   "source": [
    "## Create second material block"
   ]
  },
  {
   "cell_type": "code",
   "execution_count": 5,
   "metadata": {},
   "outputs": [
    {
     "data": {
      "text/plain": [
       "OrdinaryStateBasedMaterial(2, GeneralMaterial([1.0 1.0 … 10.0 10.0; 1.0 1.0 … 10.0 10.0; 1.0 2.0 … 9.0 10.0], [-0.01 -0.01 … -0.01 -0.01; 0.0 0.0 … 0.0 0.0; 0.0 0.0 … 0.0 0.0], [11.5 11.5 … 20.5 20.5; 21.5 21.5 … 30.5 30.5; 21.5 22.5 … 29.5 30.5], 1.0, [1.0, 1.0, 1.0, 1.0, 1.0, 1.0, 1.0, 1.0, 1.0, 1.0  …  1.0, 1.0, 1.0, 1.0, 1.0, 1.0, 1.0, 1.0, 1.0, 1.0], 10000.0, 3.0, 0.5, [0 0 … 0 0; 0 0 … 0 0; … ; 212 213 … 998 998; 221 222 … 1000 999], Bool[0 0 … 0 0; 0 0 … 0 0; … ; 1 1 … 1 1; 1 1 … 1 1]), OrdinaryStateBasedSpecific(10.0, 10.0, [44.224849962275016, 59.156443335156034, 73.73492328243114, 73.73492328243114, 73.73492328243114, 73.73492328243114, 73.73492328243114, 73.73492328243114, 59.156443335156034, 44.22484996227502  …  44.224849962275016, 59.15644333515602, 73.73492328243114, 73.73492328243114, 73.73492328243114, 73.73492328243114, 73.73492328243114, 73.73492328243114, 59.15644333515601, 44.224849962275016]))"
      ]
     },
     "execution_count": 5,
     "metadata": {},
     "output_type": "execute_result"
    }
   ],
   "source": [
    "mat_gen2 = GeneralMaterial(y2, v2, x2, vol2, den2, hor2, cstretch2, max_neigh=200)\n",
    "\n",
    "K2, G2 = 10.0, 10.0\n",
    "mat_spec2 = OrdinaryStateBasedSpecific(K2, G2, mat_gen2)\n",
    "\n",
    "id = 2::Int64\n",
    "block2 = OrdinaryStateBasedMaterial(id, mat_gen2, mat_spec2)\n"
   ]
  },
  {
   "cell_type": "markdown",
   "metadata": {},
   "source": [
    "## Create repulsion models"
   ]
  },
  {
   "cell_type": "code",
   "execution_count": 6,
   "metadata": {},
   "outputs": [
    {
     "data": {
      "text/plain": [
       "SimpleRepulsionModel11(2, GeneralMaterial([1.0 1.0 … 10.0 10.0; 1.0 1.0 … 10.0 10.0; 1.0 2.0 … 9.0 10.0], [-0.01 -0.01 … -0.01 -0.01; 0.0 0.0 … 0.0 0.0; 0.0 0.0 … 0.0 0.0], [11.5 11.5 … 20.5 20.5; 21.5 21.5 … 30.5 30.5; 21.5 22.5 … 29.5 30.5], 1.0, [1.0, 1.0, 1.0, 1.0, 1.0, 1.0, 1.0, 1.0, 1.0, 1.0  …  1.0, 1.0, 1.0, 1.0, 1.0, 1.0, 1.0, 1.0, 1.0, 1.0], 10000.0, 3.0, 0.5, [0 0 … 0 0; 0 0 … 0 0; … ; 212 213 … 998 998; 221 222 … 1000 999], Bool[0 0 … 0 0; 0 0 … 0 0; … ; 1 1 … 1 1; 1 1 … 1 1]), 2.0, 1000.0, [0 0 … 0 0; 0 0 … 0 0; … ; 0 0 … 0 0; 0 0 … 0 0], 2.0, 200)"
      ]
     },
     "execution_count": 6,
     "metadata": {},
     "output_type": "execute_result"
    }
   ],
   "source": [
    "alpha = 2.0\n",
    "epsilon = 1000.0\n",
    "\n",
    "RM = SimpleRepulsionModel(alpha, epsilon, block1, block2, distanceX=2, max_neighs=200)\n",
    "RM1 = SimpleRepulsionModel(alpha, epsilon, block1, distanceX=3, max_neighs=200)\n",
    "RM2 = SimpleRepulsionModel(alpha, epsilon, block2, distanceX=2, max_neighs=200)\n"
   ]
  },
  {
   "cell_type": "markdown",
   "metadata": {},
   "source": [
    "## Create simulation environment"
   ]
  },
  {
   "cell_type": "code",
   "execution_count": 10,
   "metadata": {},
   "outputs": [
    {
     "data": {
      "text/plain": [
       "PeriDyn.GeneralEnv(1, [1, 1, 1, 1, 1, 1, 1, 1, 1, 1  …  2, 2, 2, 2, 2, 2, 2, 2, 2, 2], [0, 0, 0, 0, 0, 0, 0, 0, 0, 0  …  0, 0, 0, 0, 0, 0, 0, 0, 0, 0], 2, [1.0 1.0 … 10.0 10.0; 1.0 1.0 … 10.0 10.0; 1.0 2.0 … 9.0 10.0], [0.0 0.0 … -0.01 -0.01; 0.0 0.0 … 0.0 0.0; 0.0 0.0 … 0.0 0.0], [0.0 0.0 … -0.0 -0.0; 0.0 0.0 … 0.0 0.0; 0.0 0.0 … 0.0 0.0], 0, 0.2, [0 0; 0 0], Any[], Any[SimpleRepulsionModel12([1, 2], [1000.0, 10000.0], 2.0, 1000.0, 1.0, [201 202 … 0 0; 112 113 … 0 0; … ; 0 0 … 0 0; 0 0 … 0 0], 2.0, 200), SimpleRepulsionModel11(1, GeneralMaterial([1.0 1.0 … 100.0 100.0; 1.0 1.0 … 100.0 100.0; 1.0 2.0 … 9.0 10.0], [0.0 0.0 … 0.0 0.0; 0.0 0.0 … 0.0 0.0; 0.0 0.0 … 0.0 0.0], [1.0 1.0 … 100.0 100.0; 1.0 1.0 … 100.0 100.0; 1.0 2.0 … 9.0 10.0], 1.0, [1.0, 1.0, 1.0, 1.0, 1.0, 1.0, 1.0, 1.0, 1.0, 1.0  …  1.0, 1.0, 1.0, 1.0, 1.0, 1.0, 1.0, 1.0, 1.0, 1.0], 1000.0, 3.0, 0.15, [0 0 … 0 0; 0 0 … 0 0; … ; 2012 2013 … 99998 99998; 2021 2022 … 100000 99999], Bool[0 0 … 0 0; 0 0 … 0 0; … ; 0 0 … 1 1; 0 0 … 1 1]), 2.0, 1000.0, [0 0 … 0 0; 0 0 … 0 0; … ; 0 0 … 0 0; 0 0 … 0 0], 3.0, 200), SimpleRepulsionModel11(2, GeneralMaterial([1.0 1.0 … 10.0 10.0; 1.0 1.0 … 10.0 10.0; 1.0 2.0 … 9.0 10.0], [-0.01 -0.01 … -0.01 -0.01; 0.0 0.0 … 0.0 0.0; 0.0 0.0 … 0.0 0.0], [11.5 11.5 … 20.5 20.5; 21.5 21.5 … 30.5 30.5; 21.5 22.5 … 29.5 30.5], 1.0, [1.0, 1.0, 1.0, 1.0, 1.0, 1.0, 1.0, 1.0, 1.0, 1.0  …  1.0, 1.0, 1.0, 1.0, 1.0, 1.0, 1.0, 1.0, 1.0, 1.0], 10000.0, 3.0, 0.5, [0 0 … 0 0; 0 0 … 0 0; … ; 212 213 … 998 998; 221 222 … 1000 999], Bool[0 0 … 0 0; 0 0 … 0 0; … ; 0 0 … 0 0; 0 0 … 0 0]), 2.0, 1000.0, [0 0 … 0 0; 0 0 … 0 0; … ; 0 0 … 0 0; 0 0 … 0 0], 2.0, 200)], OrdinaryStateBasedMaterial[OrdinaryStateBasedMaterial(1, GeneralMaterial([1.0 1.0 … 100.0 100.0; 1.0 1.0 … 100.0 100.0; 1.0 2.0 … 9.0 10.0], [0.0 0.0 … 0.0 0.0; 0.0 0.0 … 0.0 0.0; 0.0 0.0 … 0.0 0.0], [1.0 1.0 … 100.0 100.0; 1.0 1.0 … 100.0 100.0; 1.0 2.0 … 9.0 10.0], 1.0, [1.0, 1.0, 1.0, 1.0, 1.0, 1.0, 1.0, 1.0, 1.0, 1.0  …  1.0, 1.0, 1.0, 1.0, 1.0, 1.0, 1.0, 1.0, 1.0, 1.0], 1000.0, 3.0, 0.15, [0 0 … 0 0; 0 0 … 0 0; … ; 2012 2013 … 99998 99998; 2021 2022 … 100000 99999], Bool[0 0 … 0 0; 0 0 … 0 0; … ; 0 0 … 1 1; 0 0 … 1 1]), OrdinaryStateBasedSpecific(1.0, 1.0, [44.224849962275016, 59.156443335156034, 73.73492328243114, 73.73492328243114, 73.73492328243114, 73.73492328243114, 73.73492328243114, 73.73492328243114, 59.156443335156034, 44.22484996227502  …  44.224849962275016, 59.15644333515602, 73.73492328243114, 73.73492328243114, 73.73492328243114, 73.73492328243114, 73.73492328243114, 73.73492328243114, 59.15644333515601, 44.224849962275016])), OrdinaryStateBasedMaterial(2, GeneralMaterial([1.0 1.0 … 10.0 10.0; 1.0 1.0 … 10.0 10.0; 1.0 2.0 … 9.0 10.0], [-0.01 -0.01 … -0.01 -0.01; 0.0 0.0 … 0.0 0.0; 0.0 0.0 … 0.0 0.0], [11.5 11.5 … 20.5 20.5; 21.5 21.5 … 30.5 30.5; 21.5 22.5 … 29.5 30.5], 1.0, [1.0, 1.0, 1.0, 1.0, 1.0, 1.0, 1.0, 1.0, 1.0, 1.0  …  1.0, 1.0, 1.0, 1.0, 1.0, 1.0, 1.0, 1.0, 1.0, 1.0], 10000.0, 3.0, 0.5, [0 0 … 0 0; 0 0 … 0 0; … ; 212 213 … 998 998; 221 222 … 1000 999], Bool[0 0 … 0 0; 0 0 … 0 0; … ; 0 0 … 0 0; 0 0 … 0 0]), OrdinaryStateBasedSpecific(10.0, 10.0, [44.224849962275016, 59.156443335156034, 73.73492328243114, 73.73492328243114, 73.73492328243114, 73.73492328243114, 73.73492328243114, 73.73492328243114, 59.156443335156034, 44.22484996227502  …  44.224849962275016, 59.15644333515602, 73.73492328243114, 73.73492328243114, 73.73492328243114, 73.73492328243114, 73.73492328243114, 73.73492328243114, 59.15644333515601, 44.224849962275016]))], nothing, nothing, nothing)"
      ]
     },
     "execution_count": 10,
     "metadata": {},
     "output_type": "execute_result"
    }
   ],
   "source": [
    "env = Env(1, [block1, block2], [RM, RM1, RM2], [], 0.2)\n"
   ]
  },
  {
   "cell_type": "markdown",
   "metadata": {},
   "source": [
    "## Solve using velocity verlet"
   ]
  },
  {
   "cell_type": "code",
   "execution_count": 11,
   "metadata": {},
   "outputs": [
    {
     "name": "stdout",
     "output_type": "stream",
     "text": [
      "\n",
      "Updating neighbors for collision..................Done\n",
      "Initial state saved.\n",
      "Writting data file.......................Done\n",
      "0.1%",
      "\n",
      "Writting data file.......................Done\n",
      "2.0%",
      "\n",
      "Updating neighbors for collision.................."
     ]
    },
    {
     "ename": "InexactError",
     "evalue": "InexactError: Int64(NaN)",
     "output_type": "error",
     "traceback": [
      "InexactError: Int64(NaN)",
      "",
      "Stacktrace:",
      " [1] Int64 at ./float.jl:709 [inlined]",
      " [2] _broadcast_getindex_evalf at ./broadcast.jl:630 [inlined]",
      " [3] _broadcast_getindex at ./broadcast.jl:603 [inlined]",
      " [4] getindex at ./broadcast.jl:563 [inlined]",
      " [5] macro expansion at ./broadcast.jl:909 [inlined]",
      " [6] macro expansion at ./simdloop.jl:77 [inlined]",
      " [7] copyto! at ./broadcast.jl:908 [inlined]",
      " [8] copyto! at ./broadcast.jl:863 [inlined]",
      " [9] copy at ./broadcast.jl:839 [inlined]",
      " [10] materialize at ./broadcast.jl:819 [inlined]",
      " [11] get_cells(::Array{Float64,2}, ::Float64) at /Users/ravinderbhattoo/Main/git_repos/PeriDyn/src/util.jl:126",
      " [12] update_repulsive_neighs!(::Array{Float64,2}, ::Array{Int64,1}, ::SimpleRepulsionModel11) at /Users/ravinderbhattoo/Main/git_repos/PeriDyn/src/contacts/contacts.jl:173",
      " [13] #velocity_verlet!#7(::Int64, ::Int64, ::String, ::Int64, ::typeof(velocity_verlet!), ::Array{PeriDyn.GeneralEnv,1}, ::Int64) at /Users/ravinderbhattoo/Main/git_repos/PeriDyn/src/solvers.jl:88",
      " [14] (::PeriDyn.var\"#kw##velocity_verlet!\")(::NamedTuple{(:filewrite_freq, :neigh_update_freq, :file_prefix, :start_at),Tuple{Int64,Int64,String,Int64}}, ::typeof(velocity_verlet!), ::Array{PeriDyn.GeneralEnv,1}, ::Int64) at ./none:0",
      " [15] top-level scope at In[11]:1"
     ]
    }
   ],
   "source": [
    "velocity_verlet!([env],1000,filewrite_freq=20,neigh_update_freq=20,file_prefix=\"2blocks\",start_at=0)\n"
   ]
  },
  {
   "cell_type": "code",
   "execution_count": null,
   "metadata": {},
   "outputs": [],
   "source": []
  }
 ],
 "metadata": {
  "kernelspec": {
   "display_name": "Julia 1.3.0",
   "language": "julia",
   "name": "julia-1.3"
  },
  "language_info": {
   "file_extension": ".jl",
   "mimetype": "application/julia",
   "name": "julia",
   "version": "1.3.0"
  }
 },
 "nbformat": 4,
 "nbformat_minor": 4
}
